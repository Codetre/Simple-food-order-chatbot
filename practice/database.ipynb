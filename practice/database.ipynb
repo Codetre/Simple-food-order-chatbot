{
 "cells": [
  {
   "cell_type": "code",
   "execution_count": 25,
   "metadata": {
    "collapsed": true
   },
   "outputs": [],
   "source": [
    "import sqlite3"
   ]
  },
  {
   "cell_type": "markdown",
   "source": [
    "## DB 접속 방법\n",
    "1. 지정된 DB로 연결됨을 나타내는 connection 객체를 만든다.\n",
    "2. 쿼리를 다룰 수 있는 커서(Transaction control)를 만든다."
   ],
   "metadata": {
    "collapsed": false
   }
  },
  {
   "cell_type": "code",
   "execution_count": 26,
   "outputs": [],
   "source": [
    "db_file = \"data/answers.sqlite\"\n",
    "conn = sqlite3.connect(db_file)\n",
    "cursor = conn.cursor()\n",
    "# 작업을 더는 진행하지 않는다면  `cursor.close()`, `conn.close()` 같이 명시적 자원 해제를 하거나,\n",
    "# `with` 콘텍스트 관리자 하에서 작업을 실시한다."
   ],
   "metadata": {
    "collapsed": false
   }
  },
  {
   "cell_type": "markdown",
   "source": [
    "## 쿼리 실행\n",
    "1. 쿼리를 파이썬 문자열로 생성.\n",
    "2. 쿼리를 커서 객체의 `execute` 메소드로 넘겨 실행.\n",
    "3. 'SELECT' 문 같이 튜플이 리턴되는 쿼리는 실행 결과를 변수로 받아 다시 `fetch`나 `fetchall`로 확인 가능."
   ],
   "metadata": {
    "collapsed": false
   }
  },
  {
   "cell_type": "code",
   "execution_count": 13,
   "outputs": [],
   "source": [
    "tab_creation = \"\"\"CREATE TABLE student\n",
    "(\n",
    "    id      INTEGER PRIMARY KEY NOT NULL,\n",
    "    name    varchar(32),\n",
    "    age     INTEGER,\n",
    "    address varchar(32)\n",
    ");\"\"\""
   ],
   "metadata": {
    "collapsed": false
   }
  },
  {
   "cell_type": "code",
   "execution_count": 14,
   "outputs": [
    {
     "data": {
      "text/plain": "<sqlite3.Cursor at 0x10feac810>"
     },
     "execution_count": 14,
     "metadata": {},
     "output_type": "execute_result"
    }
   ],
   "source": [
    "cursor.execute(tab_creation)"
   ],
   "metadata": {
    "collapsed": false
   }
  },
  {
   "cell_type": "code",
   "execution_count": 35,
   "outputs": [
    {
     "data": {
      "text/plain": "[('table',\n  'student',\n  'student',\n  2,\n  'CREATE TABLE student\\n(\\n    id      INTEGER PRIMARY KEY NOT NULL,\\n    name    varchar(32),\\n    age     INTEGER,\\n    address varchar(32)\\n)')]"
     },
     "execution_count": 35,
     "metadata": {},
     "output_type": "execute_result"
    }
   ],
   "source": [
    "find_tab = \"\"\"SELECT *\n",
    "FROM sqlite_schema\n",
    "WHERE type = 'table'\n",
    "  AND name NOT LIKE 'sqlite_%';\"\"\"\n",
    "\n",
    "tabs = cursor.execute(find_tab)\n",
    "tabs.fetchall()"
   ],
   "metadata": {
    "collapsed": false
   }
  },
  {
   "cell_type": "code",
   "execution_count": 27,
   "outputs": [],
   "source": [
    "data_insertion = \"\"\"INSERT INTO student\n",
    "(name, age, address)\n",
    "VALUES ('이혜리', 15, '서울 팔달구');\"\"\"\n",
    "\n",
    "cursor.execute(data_insertion)\n",
    "conn.commit()  # 데이터 변경 질의는 이 메소드 호출이 필요."
   ],
   "metadata": {
    "collapsed": false
   }
  },
  {
   "cell_type": "code",
   "execution_count": 36,
   "outputs": [
    {
     "data": {
      "text/plain": "[(1, '김학준', 34, '경산시'), (2, '이혜리', 15, '서울 팔달구')]"
     },
     "execution_count": 36,
     "metadata": {},
     "output_type": "execute_result"
    }
   ],
   "source": [
    "list_students = \"select * from student;\"\n",
    "students = cursor.execute(list_students)\n",
    "students.fetchall()"
   ],
   "metadata": {
    "collapsed": false
   }
  },
  {
   "cell_type": "code",
   "execution_count": null,
   "outputs": [],
   "source": [],
   "metadata": {
    "collapsed": false
   }
  }
 ],
 "metadata": {
  "kernelspec": {
   "display_name": "Python 3",
   "language": "python",
   "name": "python3"
  },
  "language_info": {
   "codemirror_mode": {
    "name": "ipython",
    "version": 2
   },
   "file_extension": ".py",
   "mimetype": "text/x-python",
   "name": "python",
   "nbconvert_exporter": "python",
   "pygments_lexer": "ipython2",
   "version": "2.7.6"
  }
 },
 "nbformat": 4,
 "nbformat_minor": 0
}
