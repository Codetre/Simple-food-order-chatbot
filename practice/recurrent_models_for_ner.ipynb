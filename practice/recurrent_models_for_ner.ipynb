{
 "cells": [
  {
   "cell_type": "code",
   "execution_count": 141,
   "outputs": [
    {
     "name": "stderr",
     "output_type": "stream",
     "text": [
      "UsageError: Line magic function `%` not found.\n"
     ]
    }
   ],
   "source": [
    "from random import random\n",
    "from typing import Tuple\n",
    "\n",
    "from sklearn.model_selection import train_test_split\n",
    "import matplotlib.pyplot as plt\n",
    "import numpy as np\n",
    "from tensorflow import keras\n",
    "import tensorflow as tf\n",
    "\n",
    "% matplotlib inline"
   ],
   "metadata": {
    "collapsed": false
   }
  },
  {
   "cell_type": "markdown",
   "source": [
    "## 데이터 준비"
   ],
   "metadata": {
    "collapsed": false
   }
  },
  {
   "cell_type": "code",
   "execution_count": 3,
   "outputs": [],
   "source": [
    "def split_seqeunce(sequence, step):\n",
    "    \"\"\"데이터셋용 시퀀스 분할.\n",
    "\n",
    "    x, y = sequence[i:i + step], sequence[i + step]\n",
    "    시퀀스의 일정 부분을 보고 그 다음엔 뭐가 올지 추측하는 모델을 위한 데이터셋 생성 헬퍼 함수.\n",
    "\n",
    "    :param sequence: 분할 대상.\n",
    "    :param step: 분할 크기.\n",
    "    :return: 분할된 부분과 그 다음 원소의 슬라이스들.\n",
    "    \"\"\"\n",
    "    x, y = [], []\n",
    "\n",
    "    for i in range(len(sequence)):\n",
    "        end_idx = i + step\n",
    "        if end_idx > len(sequence) - 1:\n",
    "            break\n",
    "        x.append(sequence[i:end_idx])\n",
    "        y.append(sequence[end_idx])\n",
    "\n",
    "    return np.array(x), np.array(y)\n",
    "\n",
    "\n",
    "def preprocess(dataset: np.ndarray, new_dim_size: int) -> np.ndarray:\n",
    "    \"\"\"RNN 레이어 입력 요구 사항을 맞추기 위한 전처리.\n",
    "\n",
    "    :param dataset: ndim=2의 ndarray\n",
    "    :param new_dim_size: 추가된 차원의 크기.\n",
    "    :return: ndim = (ndim + 1)로 형태가 바뀐 ndarray\n",
    "    \"\"\"\n",
    "    return dataset.reshape(*dataset.shape, new_dim_size)"
   ],
   "metadata": {
    "collapsed": false
   }
  },
  {
   "cell_type": "code",
   "execution_count": 4,
   "outputs": [],
   "source": [
    "x_ticks = 15  # RNN이 1회 추론에 입력 받게 될 데이터.\n",
    "n_features = 1  # 전처리 단계와 출력층의 크기로서도 써먹는다."
   ],
   "metadata": {
    "collapsed": false
   }
  },
  {
   "cell_type": "code",
   "execution_count": 5,
   "outputs": [],
   "source": [
    "x = np.arange(start=-10, stop=10, step=0.1)\n",
    "dataset_y = np.sin(x)\n",
    "dataset_x, dataset_y = split_seqeunce(dataset_y, x_ticks)"
   ],
   "metadata": {
    "collapsed": false
   }
  },
  {
   "cell_type": "code",
   "execution_count": 6,
   "outputs": [
    {
     "name": "stdout",
     "output_type": "stream",
     "text": [
      "(185, 15)\n",
      "(185,)\n"
     ]
    }
   ],
   "source": [
    "print(dataset_x.shape)  # shape: (len(x) / x_ticks, x_ticks)\n",
    "print(dataset_y.shape)"
   ],
   "metadata": {
    "collapsed": false
   }
  },
  {
   "cell_type": "code",
   "execution_count": 7,
   "outputs": [],
   "source": [
    "# RNN 요구 shape(ndim=3)을 맞추기 위해 차원 추가.\n",
    "dataset_x = preprocess(dataset_x, n_features)"
   ],
   "metadata": {
    "collapsed": false
   }
  },
  {
   "cell_type": "markdown",
   "source": [
    "## 모델 훈련"
   ],
   "metadata": {
    "collapsed": false
   }
  },
  {
   "cell_type": "code",
   "execution_count": 8,
   "outputs": [
    {
     "name": "stdout",
     "output_type": "stream",
     "text": [
      "Metal device set to: Apple M1 Pro\n"
     ]
    },
    {
     "name": "stderr",
     "output_type": "stream",
     "text": [
      "2023-01-18 04:25:06.057472: I tensorflow/core/common_runtime/pluggable_device/pluggable_device_factory.cc:306] Could not identify NUMA node of platform GPU ID 0, defaulting to 0. Your kernel may not have been built with NUMA support.\n",
      "2023-01-18 04:25:06.057503: I tensorflow/core/common_runtime/pluggable_device/pluggable_device_factory.cc:272] Created TensorFlow device (/job:localhost/replica:0/task:0/device:GPU:0 with 0 MB memory) -> physical PluggableDevice (device: 0, name: METAL, pci bus id: <undefined>)\n"
     ]
    }
   ],
   "source": [
    "input_layer = keras.layers.Input(shape=dataset_x.shape[1:])\n",
    "rnn_layer = keras.layers.SimpleRNN(\n",
    "    units=10,\n",
    "    return_sequences=False,\n",
    "    input_shape=(x_ticks, n_features))(input_layer)\n",
    "dense_layer = keras.layers.Dense(n_features)(rnn_layer)\n",
    "rnn_model = keras.Model(inputs=input_layer, outputs=dense_layer)\n",
    "rnn_model.compile(optimizer=keras.optimizers.legacy.Adam(), loss=\"mse\")"
   ],
   "metadata": {
    "collapsed": false
   }
  },
  {
   "cell_type": "code",
   "execution_count": 9,
   "outputs": [
    {
     "name": "stdout",
     "output_type": "stream",
     "text": [
      "Epoch 1/1000\n"
     ]
    },
    {
     "name": "stderr",
     "output_type": "stream",
     "text": [
      "2023-01-18 04:25:06.689149: W tensorflow/tsl/platform/profile_utils/cpu_utils.cc:128] Failed to get CPU frequency: 0 Hz\n",
      "2023-01-18 04:25:07.027192: I tensorflow/core/grappler/optimizers/custom_graph_optimizer_registry.cc:114] Plugin optimizer for device_type GPU is enabled.\n"
     ]
    },
    {
     "name": "stdout",
     "output_type": "stream",
     "text": [
      "6/6 [==============================] - 1s 82ms/step - loss: 0.4203\n",
      "Epoch 2/1000\n",
      "6/6 [==============================] - 0s 83ms/step - loss: 0.2471\n",
      "Epoch 3/1000\n",
      "6/6 [==============================] - 0s 78ms/step - loss: 0.1465\n",
      "Epoch 4/1000\n",
      "6/6 [==============================] - 0s 76ms/step - loss: 0.0935\n",
      "Epoch 5/1000\n",
      "6/6 [==============================] - 0s 80ms/step - loss: 0.0611\n",
      "Epoch 6/1000\n",
      "6/6 [==============================] - 1s 82ms/step - loss: 0.0403\n",
      "Epoch 7/1000\n",
      "6/6 [==============================] - 0s 75ms/step - loss: 0.0259\n",
      "Epoch 8/1000\n",
      "6/6 [==============================] - 0s 75ms/step - loss: 0.0162\n",
      "Epoch 9/1000\n",
      "6/6 [==============================] - 0s 78ms/step - loss: 0.0113\n",
      "Epoch 10/1000\n",
      "6/6 [==============================] - 0s 77ms/step - loss: 0.0090\n",
      "Epoch 11/1000\n",
      "6/6 [==============================] - 0s 73ms/step - loss: 0.0078\n",
      "Epoch 12/1000\n",
      "6/6 [==============================] - 0s 77ms/step - loss: 0.0076\n",
      "Epoch 13/1000\n",
      "6/6 [==============================] - 0s 78ms/step - loss: 0.0074\n",
      "Epoch 14/1000\n",
      "6/6 [==============================] - 0s 73ms/step - loss: 0.0072\n",
      "Epoch 15/1000\n",
      "6/6 [==============================] - 0s 71ms/step - loss: 0.0070\n",
      "Epoch 16/1000\n",
      "6/6 [==============================] - 0s 74ms/step - loss: 0.0069\n",
      "Epoch 17/1000\n",
      "6/6 [==============================] - 0s 72ms/step - loss: 0.0067\n",
      "Epoch 18/1000\n",
      "6/6 [==============================] - 0s 73ms/step - loss: 0.0066\n",
      "Epoch 19/1000\n",
      "6/6 [==============================] - 0s 72ms/step - loss: 0.0064\n",
      "Epoch 20/1000\n",
      "6/6 [==============================] - 0s 74ms/step - loss: 0.0062\n",
      "Epoch 21/1000\n",
      "6/6 [==============================] - 0s 76ms/step - loss: 0.0060\n",
      "Epoch 22/1000\n",
      "6/6 [==============================] - 0s 75ms/step - loss: 0.0059\n",
      "Epoch 23/1000\n",
      "6/6 [==============================] - 0s 72ms/step - loss: 0.0057\n",
      "Epoch 24/1000\n",
      "6/6 [==============================] - 0s 75ms/step - loss: 0.0056\n",
      "Epoch 25/1000\n",
      "6/6 [==============================] - 0s 73ms/step - loss: 0.0055\n",
      "Epoch 26/1000\n",
      "6/6 [==============================] - 0s 73ms/step - loss: 0.0054\n",
      "Epoch 27/1000\n",
      "6/6 [==============================] - 0s 73ms/step - loss: 0.0052\n",
      "Epoch 28/1000\n",
      "6/6 [==============================] - 0s 79ms/step - loss: 0.0051\n",
      "Epoch 29/1000\n",
      "6/6 [==============================] - 0s 76ms/step - loss: 0.0049\n",
      "Epoch 30/1000\n",
      "6/6 [==============================] - 0s 73ms/step - loss: 0.0048\n",
      "Epoch 31/1000\n",
      "6/6 [==============================] - 0s 78ms/step - loss: 0.0047\n",
      "Epoch 32/1000\n",
      "6/6 [==============================] - 0s 70ms/step - loss: 0.0046\n",
      "Epoch 33/1000\n",
      "6/6 [==============================] - 0s 74ms/step - loss: 0.0045\n",
      "Epoch 34/1000\n",
      "6/6 [==============================] - 0s 80ms/step - loss: 0.0044\n",
      "Epoch 35/1000\n",
      "6/6 [==============================] - 0s 75ms/step - loss: 0.0042\n",
      "Epoch 36/1000\n",
      "6/6 [==============================] - 0s 72ms/step - loss: 0.0042\n",
      "Epoch 37/1000\n",
      "6/6 [==============================] - 0s 74ms/step - loss: 0.0040\n",
      "Epoch 38/1000\n",
      "6/6 [==============================] - 0s 71ms/step - loss: 0.0039\n",
      "Epoch 39/1000\n",
      "6/6 [==============================] - 0s 75ms/step - loss: 0.0039\n",
      "Epoch 40/1000\n",
      "6/6 [==============================] - 0s 84ms/step - loss: 0.0037\n",
      "Epoch 41/1000\n",
      "6/6 [==============================] - 0s 75ms/step - loss: 0.0037\n",
      "Epoch 42/1000\n",
      "6/6 [==============================] - 0s 72ms/step - loss: 0.0036\n",
      "Epoch 43/1000\n",
      "6/6 [==============================] - 0s 71ms/step - loss: 0.0035\n",
      "Epoch 44/1000\n",
      "6/6 [==============================] - 0s 71ms/step - loss: 0.0034\n",
      "Epoch 45/1000\n",
      "6/6 [==============================] - 0s 73ms/step - loss: 0.0033\n",
      "Epoch 46/1000\n",
      "6/6 [==============================] - 0s 72ms/step - loss: 0.0032\n",
      "Epoch 47/1000\n",
      "6/6 [==============================] - 0s 75ms/step - loss: 0.0031\n",
      "Epoch 48/1000\n",
      "6/6 [==============================] - 0s 73ms/step - loss: 0.0030\n",
      "Epoch 49/1000\n",
      "6/6 [==============================] - 0s 74ms/step - loss: 0.0030\n",
      "Epoch 50/1000\n",
      "6/6 [==============================] - 0s 73ms/step - loss: 0.0029\n",
      "Epoch 51/1000\n",
      "6/6 [==============================] - 0s 75ms/step - loss: 0.0028\n",
      "Epoch 52/1000\n",
      "6/6 [==============================] - 0s 76ms/step - loss: 0.0027\n",
      "Epoch 53/1000\n",
      "6/6 [==============================] - 0s 80ms/step - loss: 0.0027\n",
      "Epoch 54/1000\n",
      "6/6 [==============================] - 0s 71ms/step - loss: 0.0026\n",
      "Epoch 55/1000\n",
      "6/6 [==============================] - 0s 71ms/step - loss: 0.0025\n",
      "Epoch 56/1000\n",
      "6/6 [==============================] - 0s 73ms/step - loss: 0.0025\n",
      "Epoch 57/1000\n",
      "6/6 [==============================] - 0s 71ms/step - loss: 0.0024\n",
      "Epoch 58/1000\n",
      "6/6 [==============================] - 0s 75ms/step - loss: 0.0023\n",
      "Epoch 59/1000\n",
      "6/6 [==============================] - 0s 71ms/step - loss: 0.0022\n",
      "Epoch 60/1000\n",
      "6/6 [==============================] - 0s 72ms/step - loss: 0.0022\n",
      "Epoch 61/1000\n",
      "6/6 [==============================] - 0s 71ms/step - loss: 0.0021\n",
      "Epoch 62/1000\n",
      "6/6 [==============================] - 0s 71ms/step - loss: 0.0020\n",
      "Epoch 63/1000\n",
      "6/6 [==============================] - 0s 72ms/step - loss: 0.0020\n",
      "Epoch 64/1000\n",
      "6/6 [==============================] - 0s 73ms/step - loss: 0.0019\n",
      "Epoch 65/1000\n",
      "6/6 [==============================] - 0s 71ms/step - loss: 0.0019\n",
      "Epoch 66/1000\n",
      "6/6 [==============================] - 0s 72ms/step - loss: 0.0018\n",
      "Epoch 67/1000\n",
      "6/6 [==============================] - 0s 73ms/step - loss: 0.0017\n",
      "Epoch 68/1000\n",
      "6/6 [==============================] - 0s 72ms/step - loss: 0.0017\n",
      "Epoch 69/1000\n",
      "6/6 [==============================] - 0s 71ms/step - loss: 0.0016\n",
      "Epoch 70/1000\n",
      "6/6 [==============================] - 0s 82ms/step - loss: 0.0016\n",
      "Epoch 71/1000\n",
      "6/6 [==============================] - 0s 76ms/step - loss: 0.0015\n",
      "Epoch 72/1000\n",
      "6/6 [==============================] - 0s 72ms/step - loss: 0.0015\n",
      "Epoch 73/1000\n",
      "6/6 [==============================] - 0s 76ms/step - loss: 0.0014\n",
      "Epoch 74/1000\n",
      "6/6 [==============================] - 0s 72ms/step - loss: 0.0014\n",
      "Epoch 75/1000\n",
      "6/6 [==============================] - 0s 70ms/step - loss: 0.0013\n",
      "Epoch 76/1000\n",
      "6/6 [==============================] - 0s 71ms/step - loss: 0.0013\n",
      "Epoch 77/1000\n",
      "6/6 [==============================] - 0s 75ms/step - loss: 0.0012\n",
      "Epoch 78/1000\n",
      "6/6 [==============================] - 0s 70ms/step - loss: 0.0011\n",
      "Epoch 79/1000\n",
      "6/6 [==============================] - 0s 75ms/step - loss: 0.0011\n",
      "Epoch 80/1000\n",
      "6/6 [==============================] - 0s 74ms/step - loss: 0.0010\n",
      "Epoch 81/1000\n",
      "6/6 [==============================] - 0s 71ms/step - loss: 9.9690e-04\n",
      "Epoch 82/1000\n",
      "6/6 [==============================] - 0s 70ms/step - loss: 9.5597e-04\n",
      "Epoch 83/1000\n",
      "6/6 [==============================] - 0s 75ms/step - loss: 9.0496e-04\n",
      "Epoch 84/1000\n",
      "6/6 [==============================] - 0s 76ms/step - loss: 8.5095e-04\n",
      "Epoch 85/1000\n",
      "6/6 [==============================] - 0s 71ms/step - loss: 8.1276e-04\n",
      "Epoch 86/1000\n",
      "6/6 [==============================] - 0s 75ms/step - loss: 7.6061e-04\n",
      "Epoch 87/1000\n",
      "6/6 [==============================] - 0s 74ms/step - loss: 7.2851e-04\n",
      "Epoch 88/1000\n",
      "6/6 [==============================] - 0s 81ms/step - loss: 6.8457e-04\n",
      "Epoch 89/1000\n",
      "6/6 [==============================] - 0s 79ms/step - loss: 6.3503e-04\n",
      "Epoch 90/1000\n",
      "6/6 [==============================] - 0s 74ms/step - loss: 5.9755e-04\n",
      "Epoch 91/1000\n",
      "6/6 [==============================] - 0s 79ms/step - loss: 5.6106e-04\n",
      "Epoch 92/1000\n",
      "6/6 [==============================] - 0s 76ms/step - loss: 5.3394e-04\n",
      "Epoch 93/1000\n",
      "6/6 [==============================] - 0s 72ms/step - loss: 4.8546e-04\n",
      "Epoch 94/1000\n",
      "6/6 [==============================] - 0s 72ms/step - loss: 4.5699e-04\n",
      "Epoch 95/1000\n",
      "6/6 [==============================] - 0s 71ms/step - loss: 4.2848e-04\n",
      "Epoch 96/1000\n",
      "6/6 [==============================] - 0s 72ms/step - loss: 3.9205e-04\n",
      "Epoch 97/1000\n",
      "6/6 [==============================] - 0s 73ms/step - loss: 3.6651e-04\n",
      "Epoch 98/1000\n",
      "6/6 [==============================] - 0s 71ms/step - loss: 3.3423e-04\n",
      "Epoch 99/1000\n",
      "6/6 [==============================] - 0s 71ms/step - loss: 3.0807e-04\n",
      "Epoch 100/1000\n",
      "6/6 [==============================] - 0s 71ms/step - loss: 2.8393e-04\n",
      "Epoch 101/1000\n",
      "6/6 [==============================] - 0s 73ms/step - loss: 2.6145e-04\n",
      "Epoch 102/1000\n",
      "6/6 [==============================] - 0s 76ms/step - loss: 2.4259e-04\n",
      "Epoch 103/1000\n",
      "6/6 [==============================] - 0s 76ms/step - loss: 2.2150e-04\n",
      "Epoch 104/1000\n",
      "6/6 [==============================] - 0s 77ms/step - loss: 2.0605e-04\n",
      "Epoch 105/1000\n",
      "6/6 [==============================] - 0s 73ms/step - loss: 1.8626e-04\n",
      "Epoch 106/1000\n",
      "6/6 [==============================] - 0s 76ms/step - loss: 1.7309e-04\n",
      "Epoch 107/1000\n",
      "6/6 [==============================] - 0s 76ms/step - loss: 1.6037e-04\n",
      "Epoch 108/1000\n",
      "6/6 [==============================] - 0s 75ms/step - loss: 1.4751e-04\n",
      "Epoch 109/1000\n",
      "6/6 [==============================] - 0s 71ms/step - loss: 1.3775e-04\n",
      "Epoch 110/1000\n",
      "6/6 [==============================] - 0s 77ms/step - loss: 1.2724e-04\n",
      "Epoch 111/1000\n",
      "6/6 [==============================] - 0s 77ms/step - loss: 1.1990e-04\n",
      "Epoch 112/1000\n",
      "6/6 [==============================] - 0s 81ms/step - loss: 1.1301e-04\n",
      "Epoch 113/1000\n",
      "6/6 [==============================] - 0s 76ms/step - loss: 1.0533e-04\n",
      "Epoch 114/1000\n",
      "6/6 [==============================] - 0s 77ms/step - loss: 1.0034e-04\n",
      "Epoch 115/1000\n",
      "6/6 [==============================] - 0s 74ms/step - loss: 9.5236e-05\n",
      "Epoch 116/1000\n",
      "6/6 [==============================] - 0s 72ms/step - loss: 9.1584e-05\n",
      "Epoch 117/1000\n",
      "6/6 [==============================] - 0s 76ms/step - loss: 8.7818e-05\n",
      "Epoch 118/1000\n",
      "6/6 [==============================] - 0s 72ms/step - loss: 8.5478e-05\n",
      "Epoch 119/1000\n",
      "6/6 [==============================] - 0s 72ms/step - loss: 8.2227e-05\n",
      "Epoch 120/1000\n",
      "6/6 [==============================] - 0s 73ms/step - loss: 8.1181e-05\n",
      "Epoch 121/1000\n",
      "6/6 [==============================] - 0s 74ms/step - loss: 7.9551e-05\n",
      "Epoch 122/1000\n",
      "6/6 [==============================] - 0s 73ms/step - loss: 7.7000e-05\n",
      "Epoch 123/1000\n",
      "6/6 [==============================] - 0s 74ms/step - loss: 7.6129e-05\n",
      "Epoch 124/1000\n",
      "6/6 [==============================] - 0s 73ms/step - loss: 7.4881e-05\n",
      "Epoch 125/1000\n",
      "6/6 [==============================] - 0s 75ms/step - loss: 7.3546e-05\n",
      "Epoch 126/1000\n",
      "6/6 [==============================] - 0s 78ms/step - loss: 7.4158e-05\n",
      "Epoch 127/1000\n",
      "6/6 [==============================] - 0s 76ms/step - loss: 7.1504e-05\n",
      "Epoch 128/1000\n",
      "6/6 [==============================] - 0s 78ms/step - loss: 7.3029e-05\n",
      "Epoch 129/1000\n",
      "6/6 [==============================] - 0s 78ms/step - loss: 7.0738e-05\n",
      "Epoch 130/1000\n",
      "6/6 [==============================] - 0s 74ms/step - loss: 7.2049e-05\n",
      "Epoch 131/1000\n",
      "6/6 [==============================] - 0s 75ms/step - loss: 7.1566e-05\n",
      "Epoch 132/1000\n",
      "6/6 [==============================] - 0s 73ms/step - loss: 7.0395e-05\n",
      "Epoch 133/1000\n",
      "6/6 [==============================] - 0s 70ms/step - loss: 7.0045e-05\n",
      "Epoch 134/1000\n",
      "6/6 [==============================] - 0s 76ms/step - loss: 7.0126e-05\n",
      "Epoch 135/1000\n",
      "6/6 [==============================] - 0s 73ms/step - loss: 7.0049e-05\n",
      "Epoch 136/1000\n",
      "6/6 [==============================] - 0s 72ms/step - loss: 6.8760e-05\n",
      "Epoch 137/1000\n",
      "6/6 [==============================] - 0s 73ms/step - loss: 6.8637e-05\n",
      "Epoch 138/1000\n",
      "6/6 [==============================] - 0s 72ms/step - loss: 6.8203e-05\n",
      "Epoch 139/1000\n",
      "6/6 [==============================] - 0s 72ms/step - loss: 6.8545e-05\n",
      "Epoch 140/1000\n",
      "6/6 [==============================] - 0s 71ms/step - loss: 6.8326e-05\n",
      "Epoch 141/1000\n",
      "6/6 [==============================] - 0s 71ms/step - loss: 6.7886e-05\n",
      "Epoch 142/1000\n",
      "6/6 [==============================] - 0s 71ms/step - loss: 6.8071e-05\n",
      "Epoch 143/1000\n",
      "6/6 [==============================] - 0s 71ms/step - loss: 6.8115e-05\n",
      "Epoch 144/1000\n",
      "6/6 [==============================] - 0s 71ms/step - loss: 6.7502e-05\n",
      "Epoch 145/1000\n",
      "6/6 [==============================] - 0s 72ms/step - loss: 6.8123e-05\n",
      "Epoch 146/1000\n",
      "6/6 [==============================] - 0s 71ms/step - loss: 6.7315e-05\n",
      "Epoch 147/1000\n",
      "6/6 [==============================] - 0s 72ms/step - loss: 6.7090e-05\n",
      "Epoch 148/1000\n",
      "6/6 [==============================] - 0s 75ms/step - loss: 6.8477e-05\n",
      "Epoch 149/1000\n",
      "6/6 [==============================] - 0s 72ms/step - loss: 6.6518e-05\n",
      "Epoch 150/1000\n",
      "6/6 [==============================] - 0s 70ms/step - loss: 6.6659e-05\n",
      "Epoch 151/1000\n",
      "6/6 [==============================] - 0s 71ms/step - loss: 6.6506e-05\n",
      "Epoch 152/1000\n",
      "6/6 [==============================] - 0s 76ms/step - loss: 6.5982e-05\n",
      "Epoch 153/1000\n",
      "6/6 [==============================] - 0s 71ms/step - loss: 6.5681e-05\n",
      "Epoch 154/1000\n",
      "6/6 [==============================] - 0s 72ms/step - loss: 6.6237e-05\n",
      "Epoch 155/1000\n",
      "6/6 [==============================] - 0s 75ms/step - loss: 6.5826e-05\n",
      "Epoch 156/1000\n",
      "6/6 [==============================] - 0s 71ms/step - loss: 6.6206e-05\n",
      "Epoch 157/1000\n",
      "6/6 [==============================] - 0s 71ms/step - loss: 6.5618e-05\n",
      "Epoch 158/1000\n",
      "6/6 [==============================] - 0s 73ms/step - loss: 6.4979e-05\n",
      "Epoch 159/1000\n",
      "6/6 [==============================] - 0s 71ms/step - loss: 6.8328e-05\n",
      "Epoch 160/1000\n",
      "6/6 [==============================] - 0s 72ms/step - loss: 6.7718e-05\n",
      "Epoch 161/1000\n",
      "6/6 [==============================] - 0s 72ms/step - loss: 6.9035e-05\n",
      "Epoch 162/1000\n",
      "6/6 [==============================] - 0s 73ms/step - loss: 6.4171e-05\n",
      "Epoch 163/1000\n",
      "6/6 [==============================] - 0s 72ms/step - loss: 6.6504e-05\n",
      "Epoch 164/1000\n",
      "6/6 [==============================] - 0s 72ms/step - loss: 6.4342e-05\n",
      "Epoch 165/1000\n",
      "6/6 [==============================] - 0s 71ms/step - loss: 6.4643e-05\n",
      "Epoch 166/1000\n",
      "6/6 [==============================] - 0s 76ms/step - loss: 6.4180e-05\n",
      "Epoch 167/1000\n",
      "6/6 [==============================] - 0s 72ms/step - loss: 6.4156e-05\n",
      "Epoch 168/1000\n",
      "6/6 [==============================] - 0s 72ms/step - loss: 6.3380e-05\n",
      "Epoch 169/1000\n",
      "6/6 [==============================] - 0s 72ms/step - loss: 6.3313e-05\n",
      "Epoch 170/1000\n",
      "6/6 [==============================] - 0s 72ms/step - loss: 6.4889e-05\n",
      "Epoch 171/1000\n",
      "6/6 [==============================] - 0s 72ms/step - loss: 6.5488e-05\n",
      "Epoch 172/1000\n",
      "6/6 [==============================] - 0s 72ms/step - loss: 6.4278e-05\n",
      "Epoch 173/1000\n",
      "6/6 [==============================] - 0s 72ms/step - loss: 6.4629e-05\n",
      "Epoch 174/1000\n",
      "6/6 [==============================] - 0s 71ms/step - loss: 6.3184e-05\n",
      "Epoch 175/1000\n",
      "6/6 [==============================] - 0s 74ms/step - loss: 6.3958e-05\n",
      "Epoch 176/1000\n",
      "6/6 [==============================] - 0s 73ms/step - loss: 6.3459e-05\n",
      "Epoch 177/1000\n",
      "6/6 [==============================] - 0s 71ms/step - loss: 6.3425e-05\n",
      "Epoch 178/1000\n",
      "6/6 [==============================] - 0s 73ms/step - loss: 6.3438e-05\n",
      "Epoch 179/1000\n",
      "6/6 [==============================] - 0s 72ms/step - loss: 6.2095e-05\n",
      "Epoch 180/1000\n",
      "6/6 [==============================] - 0s 72ms/step - loss: 6.2520e-05\n",
      "Epoch 181/1000\n",
      "6/6 [==============================] - 0s 75ms/step - loss: 6.1545e-05\n",
      "Epoch 182/1000\n",
      "6/6 [==============================] - 0s 74ms/step - loss: 6.1645e-05\n",
      "Epoch 183/1000\n",
      "6/6 [==============================] - 0s 74ms/step - loss: 6.1004e-05\n",
      "Epoch 184/1000\n",
      "6/6 [==============================] - 0s 73ms/step - loss: 6.1445e-05\n",
      "Epoch 185/1000\n",
      "6/6 [==============================] - 0s 72ms/step - loss: 6.2167e-05\n",
      "Epoch 186/1000\n",
      "6/6 [==============================] - 0s 71ms/step - loss: 6.0683e-05\n",
      "Epoch 187/1000\n",
      "6/6 [==============================] - 0s 72ms/step - loss: 6.1156e-05\n",
      "Epoch 188/1000\n",
      "6/6 [==============================] - 0s 73ms/step - loss: 6.2072e-05\n",
      "Epoch 189/1000\n",
      "6/6 [==============================] - 0s 72ms/step - loss: 6.1799e-05\n",
      "Epoch 190/1000\n",
      "6/6 [==============================] - 0s 73ms/step - loss: 6.0162e-05\n",
      "Epoch 191/1000\n",
      "6/6 [==============================] - 0s 71ms/step - loss: 6.0505e-05\n",
      "Epoch 192/1000\n",
      "6/6 [==============================] - 0s 71ms/step - loss: 6.0449e-05\n",
      "Epoch 193/1000\n",
      "6/6 [==============================] - 0s 72ms/step - loss: 5.9728e-05\n",
      "Epoch 194/1000\n",
      "6/6 [==============================] - 0s 72ms/step - loss: 5.9889e-05\n",
      "Epoch 195/1000\n",
      "6/6 [==============================] - 0s 71ms/step - loss: 6.0323e-05\n",
      "Epoch 196/1000\n",
      "6/6 [==============================] - 0s 77ms/step - loss: 5.9427e-05\n",
      "Epoch 197/1000\n",
      "6/6 [==============================] - 0s 78ms/step - loss: 5.9389e-05\n",
      "Epoch 198/1000\n",
      "6/6 [==============================] - 0s 73ms/step - loss: 6.0081e-05\n",
      "Epoch 199/1000\n",
      "6/6 [==============================] - 0s 72ms/step - loss: 6.0233e-05\n",
      "Epoch 200/1000\n",
      "6/6 [==============================] - 0s 72ms/step - loss: 6.0352e-05\n",
      "Epoch 201/1000\n",
      "6/6 [==============================] - 1s 91ms/step - loss: 5.8929e-05\n",
      "Epoch 202/1000\n",
      "6/6 [==============================] - 0s 79ms/step - loss: 5.9260e-05\n",
      "Epoch 203/1000\n",
      "6/6 [==============================] - 0s 80ms/step - loss: 5.9491e-05\n",
      "Epoch 204/1000\n",
      "6/6 [==============================] - 0s 80ms/step - loss: 5.8363e-05\n",
      "Epoch 205/1000\n",
      "6/6 [==============================] - 0s 79ms/step - loss: 5.7707e-05\n",
      "Epoch 206/1000\n",
      "6/6 [==============================] - 0s 78ms/step - loss: 5.9335e-05\n",
      "Epoch 207/1000\n",
      "6/6 [==============================] - 0s 73ms/step - loss: 5.8330e-05\n",
      "Epoch 208/1000\n",
      "6/6 [==============================] - 0s 78ms/step - loss: 5.7546e-05\n",
      "Epoch 209/1000\n",
      "6/6 [==============================] - 0s 80ms/step - loss: 5.7991e-05\n",
      "Epoch 210/1000\n",
      "6/6 [==============================] - 0s 74ms/step - loss: 5.7170e-05\n",
      "Epoch 211/1000\n",
      "6/6 [==============================] - 0s 78ms/step - loss: 5.7897e-05\n",
      "Epoch 212/1000\n",
      "6/6 [==============================] - 0s 78ms/step - loss: 5.7641e-05\n",
      "Epoch 213/1000\n",
      "6/6 [==============================] - 0s 80ms/step - loss: 5.6994e-05\n",
      "Epoch 214/1000\n",
      "6/6 [==============================] - 0s 79ms/step - loss: 5.7497e-05\n",
      "Epoch 215/1000\n",
      "6/6 [==============================] - 0s 77ms/step - loss: 5.6903e-05\n",
      "Epoch 216/1000\n",
      "6/6 [==============================] - 0s 79ms/step - loss: 5.6209e-05\n",
      "Epoch 217/1000\n",
      "6/6 [==============================] - 0s 73ms/step - loss: 5.6948e-05\n",
      "Epoch 218/1000\n",
      "6/6 [==============================] - 0s 75ms/step - loss: 5.7470e-05\n",
      "Epoch 219/1000\n",
      "6/6 [==============================] - 0s 74ms/step - loss: 5.6044e-05\n",
      "Epoch 220/1000\n",
      "6/6 [==============================] - 0s 75ms/step - loss: 5.6096e-05\n",
      "Epoch 221/1000\n",
      "6/6 [==============================] - 0s 76ms/step - loss: 5.7606e-05\n",
      "Epoch 222/1000\n",
      "6/6 [==============================] - 0s 71ms/step - loss: 5.5639e-05\n",
      "Epoch 223/1000\n",
      "6/6 [==============================] - 0s 73ms/step - loss: 5.6062e-05\n",
      "Epoch 224/1000\n",
      "6/6 [==============================] - 0s 72ms/step - loss: 5.5171e-05\n",
      "Epoch 225/1000\n",
      "6/6 [==============================] - 0s 71ms/step - loss: 5.6063e-05\n",
      "Epoch 226/1000\n",
      "6/6 [==============================] - 0s 71ms/step - loss: 5.5342e-05\n",
      "Epoch 227/1000\n",
      "6/6 [==============================] - 0s 73ms/step - loss: 5.5043e-05\n",
      "Epoch 228/1000\n",
      "6/6 [==============================] - 0s 76ms/step - loss: 5.6512e-05\n",
      "Epoch 229/1000\n",
      "6/6 [==============================] - 0s 77ms/step - loss: 5.5196e-05\n",
      "Epoch 230/1000\n",
      "6/6 [==============================] - 0s 72ms/step - loss: 5.6665e-05\n",
      "Epoch 231/1000\n",
      "6/6 [==============================] - 0s 74ms/step - loss: 5.3904e-05\n",
      "Epoch 232/1000\n",
      "6/6 [==============================] - 0s 72ms/step - loss: 5.4863e-05\n",
      "Epoch 233/1000\n",
      "6/6 [==============================] - 0s 72ms/step - loss: 5.4335e-05\n",
      "Epoch 234/1000\n",
      "6/6 [==============================] - 0s 73ms/step - loss: 5.3691e-05\n",
      "Epoch 235/1000\n",
      "6/6 [==============================] - 0s 73ms/step - loss: 5.4671e-05\n",
      "Epoch 236/1000\n",
      "6/6 [==============================] - 0s 76ms/step - loss: 5.7402e-05\n",
      "Epoch 237/1000\n",
      "6/6 [==============================] - 0s 78ms/step - loss: 5.7164e-05\n",
      "Epoch 238/1000\n",
      "6/6 [==============================] - 0s 75ms/step - loss: 5.3675e-05\n",
      "Epoch 239/1000\n",
      "6/6 [==============================] - 0s 79ms/step - loss: 5.5748e-05\n",
      "Epoch 240/1000\n",
      "6/6 [==============================] - 0s 75ms/step - loss: 5.4696e-05\n",
      "Epoch 241/1000\n",
      "6/6 [==============================] - 0s 70ms/step - loss: 5.2913e-05\n",
      "Epoch 242/1000\n",
      "6/6 [==============================] - 0s 73ms/step - loss: 5.3277e-05\n",
      "Epoch 243/1000\n",
      "6/6 [==============================] - 0s 71ms/step - loss: 5.3759e-05\n",
      "Epoch 244/1000\n",
      "6/6 [==============================] - 0s 71ms/step - loss: 5.3490e-05\n",
      "Epoch 245/1000\n",
      "6/6 [==============================] - 0s 71ms/step - loss: 5.2627e-05\n",
      "Epoch 246/1000\n",
      "6/6 [==============================] - 0s 71ms/step - loss: 5.1849e-05\n",
      "Epoch 247/1000\n",
      "6/6 [==============================] - 0s 71ms/step - loss: 5.2169e-05\n",
      "Epoch 248/1000\n",
      "6/6 [==============================] - 0s 73ms/step - loss: 5.2990e-05\n",
      "Epoch 249/1000\n",
      "6/6 [==============================] - 0s 74ms/step - loss: 5.2768e-05\n",
      "Epoch 250/1000\n",
      "6/6 [==============================] - 0s 74ms/step - loss: 5.1809e-05\n",
      "Epoch 251/1000\n",
      "6/6 [==============================] - 0s 73ms/step - loss: 5.2011e-05\n",
      "Epoch 252/1000\n",
      "6/6 [==============================] - 0s 73ms/step - loss: 5.1876e-05\n",
      "Epoch 253/1000\n",
      "6/6 [==============================] - 0s 72ms/step - loss: 5.1584e-05\n",
      "Epoch 254/1000\n",
      "6/6 [==============================] - 0s 73ms/step - loss: 5.0918e-05\n",
      "Epoch 255/1000\n",
      "6/6 [==============================] - 0s 75ms/step - loss: 5.1697e-05\n",
      "Epoch 256/1000\n",
      "6/6 [==============================] - 0s 81ms/step - loss: 5.0590e-05\n",
      "Epoch 257/1000\n",
      "6/6 [==============================] - 0s 80ms/step - loss: 5.0733e-05\n",
      "Epoch 258/1000\n",
      "6/6 [==============================] - 0s 80ms/step - loss: 5.1387e-05\n",
      "Epoch 259/1000\n",
      "6/6 [==============================] - 1s 87ms/step - loss: 5.0448e-05\n",
      "Epoch 260/1000\n",
      "6/6 [==============================] - 0s 74ms/step - loss: 5.0232e-05\n",
      "Epoch 261/1000\n",
      "6/6 [==============================] - 0s 80ms/step - loss: 5.0401e-05\n",
      "Epoch 262/1000\n",
      "6/6 [==============================] - 0s 77ms/step - loss: 5.2444e-05\n",
      "Epoch 263/1000\n",
      "6/6 [==============================] - 0s 73ms/step - loss: 5.4054e-05\n",
      "Epoch 264/1000\n",
      "6/6 [==============================] - 0s 73ms/step - loss: 5.1933e-05\n",
      "Epoch 265/1000\n",
      "6/6 [==============================] - 0s 72ms/step - loss: 5.1284e-05\n"
     ]
    }
   ],
   "source": [
    "early_stopping = keras.callbacks.EarlyStopping(\n",
    "    monitor=\"loss\",\n",
    "    patience=5,\n",
    "    mode=\"auto\")\n",
    "history = rnn_model.fit(dataset_x, dataset_y, epochs=1000, callbacks=[early_stopping])"
   ],
   "metadata": {
    "collapsed": false
   }
  },
  {
   "cell_type": "markdown",
   "source": [
    "## 훈련 결과 확인"
   ],
   "metadata": {
    "collapsed": false
   }
  },
  {
   "cell_type": "code",
   "execution_count": 10,
   "outputs": [
    {
     "data": {
      "text/plain": "<Figure size 640x480 with 1 Axes>",
      "image/png": "[encoded data removed]"
     },
     "metadata": {},
     "output_type": "display_data"
    }
   ],
   "source": [
    "plt.plot(history.history[\"loss\"], label=\"loss\")\n",
    "plt.legend(loc=\"upper right\")\n",
    "plt.show()"
   ],
   "metadata": {
    "collapsed": false
   }
  },
  {
   "cell_type": "markdown",
   "source": [
    "## 테스트셋 검증"
   ],
   "metadata": {
    "collapsed": false
   }
  },
  {
   "cell_type": "code",
   "execution_count": 11,
   "outputs": [],
   "source": [
    "x = np.arange(10, 20, 0.1)\n",
    "y = np.cos(x)"
   ],
   "metadata": {
    "collapsed": false
   }
  },
  {
   "cell_type": "code",
   "execution_count": 12,
   "outputs": [
    {
     "name": "stdout",
     "output_type": "stream",
     "text": [
      "(85, 15) (85,)\n"
     ]
    }
   ],
   "source": [
    "test_x, test_y = split_seqeunce(y, x_ticks)\n",
    "print(test_x.shape, test_y.shape)\n",
    "# Preprocess\n",
    "test_x = preprocess(test_x, n_features)"
   ],
   "metadata": {
    "collapsed": false
   }
  },
  {
   "cell_type": "code",
   "execution_count": 13,
   "outputs": [
    {
     "name": "stdout",
     "output_type": "stream",
     "text": [
      "3/3 [==============================] - 0s 23ms/step\n"
     ]
    },
    {
     "name": "stderr",
     "output_type": "stream",
     "text": [
      "2023-01-18 04:27:05.517726: I tensorflow/core/grappler/optimizers/custom_graph_optimizer_registry.cc:114] Plugin optimizer for device_type GPU is enabled.\n"
     ]
    }
   ],
   "source": [
    "pred_y = rnn_model.predict(test_x)"
   ],
   "metadata": {
    "collapsed": false
   }
  },
  {
   "cell_type": "code",
   "execution_count": 14,
   "outputs": [],
   "source": [
    "# x[:x_ticks] 분만큼은 범위 문제로 테스트셋에선 예측할 수 없으니, 정답과 예측 그래프를 맞추기 위해\n",
    "# 이 부분은 앞에 정답을 끼워넣는다.\n",
    "len_fixed_pred_y = np.append(y[:x_ticks], pred_y)"
   ],
   "metadata": {
    "collapsed": false
   }
  },
  {
   "cell_type": "code",
   "execution_count": 15,
   "outputs": [
    {
     "data": {
      "text/plain": "<Figure size 640x480 with 1 Axes>",
      "image/png": "[encoded data removed]"
     },
     "metadata": {},
     "output_type": "display_data"
    }
   ],
   "source": [
    "plt.plot(x, y, label=\"groundtruth\", color=\"blue\")\n",
    "plt.plot(x, len_fixed_pred_y, label=\"predictions\", color=\"orange\")\n",
    "plt.legend(loc=\"upper left\")\n",
    "plt.ylim(-2, 2)\n",
    "plt.show()"
   ],
   "metadata": {
    "collapsed": false
   }
  },
  {
   "cell_type": "markdown",
   "source": [
    "# LSTM 모델 생성 및 예측\n",
    "\n",
    "RNN 모델의 한계로는 시퀀스가 길어질수록 최근의 데이터 영향이 강하고, 시퀀스 앞쪽의 데이터의 영향은 약해지는\n",
    "장기의존성(Long term dependency)이 생긴다는 점이다. 이를 해소하기 위한 모델 구조로 LSTM이 제안됐다.\n",
    "\n",
    "Long-Short Term Model이란 이름에서 알 수 있듯, 단기 상태이던 은닉 상태(hidden state)에\n",
    "장기 상태인 셀 상태(cell state)를 추가하여 RNN 모델의 단점을 해소했다. 이런 셀 상태를 계산하기 위해\n",
    "'입력, 삭제, 출력 게이트'라는 3개의 게이트 모델에 도입했다.\n",
    "\n",
    "LSTM에서 사용되는 활성화 함수는 두 가지다: sigmoid, tanh. 각각의 함수의 범위는 sig가 `[0, 1]`,\n",
    "tanh가 `[-1, 1]`이다. 여기서 sig는 정보를 얼마나 약화시킬지 감쇠도를, tanh는 정보를 단기 상태 범위로\n",
    "스케일을 축소시킨다.\n",
    "\n",
    "  - 입력 게이트(input gate): 장기 상태에 추가할 정보량(수명)을 의미.\n",
    "    - i_cur = sig(x_cur, h_prev)\n",
    "    - g_cur = tanh(x_cur, h_prev)\n",
    "  - 삭제 게이트(forget gate): 장기 상태를 얼마나 잊을지 감쇠도.\n",
    "    - f_cur = sig(x_cur, h_prev)\n",
    "  - 출력 게이트(output gate): 단기 상태를 얼마나 잊을지 감쇠도.\n",
    "    - o_cur = sig(x_cur, h_prev)\n",
    "\n",
    "  - 단기 상태: 이전 시점까지 끌고 온 장기적 정보(c_cur)를 단기적 정보 범위로 바꾼다.\n",
    "    - h_cur = tanh(c_cur) * o_cur\n",
    "  - 장기 상태: 이전 정보에 감쇠도를 적용 후, 이번 시점 정보를 추가한다.\n",
    "    - c_cur = c_prev * f_cur + i_cur * g_cur\n",
    "\n",
    "\n",
    "모델 구조만 RNN 레이어를 LSTM 레이어로 변경하면 된다."
   ],
   "metadata": {
    "collapsed": false
   }
  },
  {
   "cell_type": "code",
   "execution_count": 16,
   "outputs": [],
   "source": [
    "lstm_layer = keras.layers.LSTM(\n",
    "    units=10,\n",
    "    return_sequences=False,\n",
    "    input_shape=(x_ticks, n_features))(input_layer)\n",
    "dense_layer = keras.layers.Dense(n_features)(lstm_layer)\n",
    "lstm_model = keras.Model(inputs=input_layer, outputs=dense_layer)\n",
    "lstm_model.compile(optimizer=keras.optimizers.legacy.Adam(), loss=\"mse\")"
   ],
   "metadata": {
    "collapsed": false
   }
  },
  {
   "cell_type": "code",
   "execution_count": 17,
   "outputs": [
    {
     "name": "stdout",
     "output_type": "stream",
     "text": [
      "Epoch 1/1000\n"
     ]
    },
    {
     "name": "stderr",
     "output_type": "stream",
     "text": [
      "2023-01-18 04:27:06.621273: I tensorflow/core/grappler/optimizers/custom_graph_optimizer_registry.cc:114] Plugin optimizer for device_type GPU is enabled.\n",
      "2023-01-18 04:27:06.694631: I tensorflow/core/grappler/optimizers/custom_graph_optimizer_registry.cc:114] Plugin optimizer for device_type GPU is enabled.\n",
      "2023-01-18 04:27:06.756752: I tensorflow/core/grappler/optimizers/custom_graph_optimizer_registry.cc:114] Plugin optimizer for device_type GPU is enabled.\n"
     ]
    },
    {
     "name": "stdout",
     "output_type": "stream",
     "text": [
      "6/6 [==============================] - 1s 15ms/step - loss: 1.1009\n",
      "Epoch 2/1000\n",
      "6/6 [==============================] - 0s 9ms/step - loss: 1.0256\n",
      "Epoch 3/1000\n",
      "6/6 [==============================] - 0s 9ms/step - loss: 0.9598\n",
      "Epoch 4/1000\n",
      "6/6 [==============================] - 0s 9ms/step - loss: 0.8982\n",
      "Epoch 5/1000\n",
      "6/6 [==============================] - 0s 9ms/step - loss: 0.8430\n",
      "Epoch 6/1000\n",
      "6/6 [==============================] - 0s 8ms/step - loss: 0.7892\n",
      "Epoch 7/1000\n",
      "6/6 [==============================] - 0s 9ms/step - loss: 0.7398\n",
      "Epoch 8/1000\n",
      "6/6 [==============================] - 0s 9ms/step - loss: 0.6925\n",
      "Epoch 9/1000\n",
      "6/6 [==============================] - 0s 9ms/step - loss: 0.6465\n",
      "Epoch 10/1000\n",
      "6/6 [==============================] - 0s 9ms/step - loss: 0.6002\n",
      "Epoch 11/1000\n",
      "6/6 [==============================] - 0s 9ms/step - loss: 0.5559\n",
      "Epoch 12/1000\n",
      "6/6 [==============================] - 0s 9ms/step - loss: 0.5091\n",
      "Epoch 13/1000\n",
      "6/6 [==============================] - 0s 9ms/step - loss: 0.4669\n",
      "Epoch 14/1000\n",
      "6/6 [==============================] - 0s 9ms/step - loss: 0.4275\n",
      "Epoch 15/1000\n",
      "6/6 [==============================] - 0s 9ms/step - loss: 0.3917\n",
      "Epoch 16/1000\n",
      "6/6 [==============================] - 0s 9ms/step - loss: 0.3620\n",
      "Epoch 17/1000\n",
      "6/6 [==============================] - 0s 9ms/step - loss: 0.3352\n",
      "Epoch 18/1000\n",
      "6/6 [==============================] - 0s 9ms/step - loss: 0.3102\n",
      "Epoch 19/1000\n",
      "6/6 [==============================] - 0s 9ms/step - loss: 0.2900\n",
      "Epoch 20/1000\n",
      "6/6 [==============================] - 0s 9ms/step - loss: 0.2688\n",
      "Epoch 21/1000\n",
      "6/6 [==============================] - 0s 9ms/step - loss: 0.2500\n",
      "Epoch 22/1000\n",
      "6/6 [==============================] - 0s 9ms/step - loss: 0.2325\n",
      "Epoch 23/1000\n",
      "6/6 [==============================] - 0s 9ms/step - loss: 0.2153\n",
      "Epoch 24/1000\n",
      "6/6 [==============================] - 0s 9ms/step - loss: 0.1999\n",
      "Epoch 25/1000\n",
      "6/6 [==============================] - 0s 9ms/step - loss: 0.1846\n",
      "Epoch 26/1000\n",
      "6/6 [==============================] - 0s 9ms/step - loss: 0.1693\n",
      "Epoch 27/1000\n",
      "6/6 [==============================] - 0s 9ms/step - loss: 0.1555\n",
      "Epoch 28/1000\n",
      "6/6 [==============================] - 0s 9ms/step - loss: 0.1421\n",
      "Epoch 29/1000\n",
      "6/6 [==============================] - 0s 9ms/step - loss: 0.1287\n",
      "Epoch 30/1000\n",
      "6/6 [==============================] - 0s 9ms/step - loss: 0.1164\n",
      "Epoch 31/1000\n",
      "6/6 [==============================] - 0s 9ms/step - loss: 0.1046\n",
      "Epoch 32/1000\n",
      "6/6 [==============================] - 0s 8ms/step - loss: 0.0934\n",
      "Epoch 33/1000\n",
      "6/6 [==============================] - 0s 9ms/step - loss: 0.0823\n",
      "Epoch 34/1000\n",
      "6/6 [==============================] - 0s 9ms/step - loss: 0.0723\n",
      "Epoch 35/1000\n",
      "6/6 [==============================] - 0s 9ms/step - loss: 0.0623\n",
      "Epoch 36/1000\n",
      "6/6 [==============================] - 0s 8ms/step - loss: 0.0532\n",
      "Epoch 37/1000\n",
      "6/6 [==============================] - 0s 9ms/step - loss: 0.0449\n",
      "Epoch 38/1000\n",
      "6/6 [==============================] - 0s 9ms/step - loss: 0.0375\n",
      "Epoch 39/1000\n",
      "6/6 [==============================] - 0s 9ms/step - loss: 0.0309\n",
      "Epoch 40/1000\n",
      "6/6 [==============================] - 0s 9ms/step - loss: 0.0254\n",
      "Epoch 41/1000\n",
      "6/6 [==============================] - 0s 8ms/step - loss: 0.0208\n",
      "Epoch 42/1000\n",
      "6/6 [==============================] - 0s 9ms/step - loss: 0.0172\n",
      "Epoch 43/1000\n",
      "6/6 [==============================] - 0s 9ms/step - loss: 0.0147\n",
      "Epoch 44/1000\n",
      "6/6 [==============================] - 0s 8ms/step - loss: 0.0126\n",
      "Epoch 45/1000\n",
      "6/6 [==============================] - 0s 9ms/step - loss: 0.0112\n",
      "Epoch 46/1000\n",
      "6/6 [==============================] - 0s 9ms/step - loss: 0.0103\n",
      "Epoch 47/1000\n",
      "6/6 [==============================] - 0s 8ms/step - loss: 0.0096\n",
      "Epoch 48/1000\n",
      "6/6 [==============================] - 0s 8ms/step - loss: 0.0090\n",
      "Epoch 49/1000\n",
      "6/6 [==============================] - 0s 9ms/step - loss: 0.0086\n",
      "Epoch 50/1000\n",
      "6/6 [==============================] - 0s 11ms/step - loss: 0.0083\n",
      "Epoch 51/1000\n",
      "6/6 [==============================] - 0s 11ms/step - loss: 0.0079\n",
      "Epoch 52/1000\n",
      "6/6 [==============================] - 0s 9ms/step - loss: 0.0076\n",
      "Epoch 53/1000\n",
      "6/6 [==============================] - 0s 9ms/step - loss: 0.0074\n",
      "Epoch 54/1000\n",
      "6/6 [==============================] - 0s 11ms/step - loss: 0.0070\n",
      "Epoch 55/1000\n",
      "6/6 [==============================] - 0s 9ms/step - loss: 0.0068\n",
      "Epoch 56/1000\n",
      "6/6 [==============================] - 0s 9ms/step - loss: 0.0065\n",
      "Epoch 57/1000\n",
      "6/6 [==============================] - 0s 9ms/step - loss: 0.0063\n",
      "Epoch 58/1000\n",
      "6/6 [==============================] - 0s 8ms/step - loss: 0.0061\n",
      "Epoch 59/1000\n",
      "6/6 [==============================] - 0s 9ms/step - loss: 0.0059\n",
      "Epoch 60/1000\n",
      "6/6 [==============================] - 0s 9ms/step - loss: 0.0057\n",
      "Epoch 61/1000\n",
      "6/6 [==============================] - 0s 9ms/step - loss: 0.0055\n",
      "Epoch 62/1000\n",
      "6/6 [==============================] - 0s 9ms/step - loss: 0.0053\n",
      "Epoch 63/1000\n",
      "6/6 [==============================] - 0s 9ms/step - loss: 0.0052\n",
      "Epoch 64/1000\n",
      "6/6 [==============================] - 0s 9ms/step - loss: 0.0050\n",
      "Epoch 65/1000\n",
      "6/6 [==============================] - 0s 9ms/step - loss: 0.0049\n",
      "Epoch 66/1000\n",
      "6/6 [==============================] - 0s 9ms/step - loss: 0.0047\n",
      "Epoch 67/1000\n",
      "6/6 [==============================] - 0s 8ms/step - loss: 0.0046\n",
      "Epoch 68/1000\n",
      "6/6 [==============================] - 0s 8ms/step - loss: 0.0044\n",
      "Epoch 69/1000\n",
      "6/6 [==============================] - 0s 9ms/step - loss: 0.0043\n",
      "Epoch 70/1000\n",
      "6/6 [==============================] - 0s 9ms/step - loss: 0.0041\n",
      "Epoch 71/1000\n",
      "6/6 [==============================] - 0s 9ms/step - loss: 0.0040\n",
      "Epoch 72/1000\n",
      "6/6 [==============================] - 0s 9ms/step - loss: 0.0039\n",
      "Epoch 73/1000\n",
      "6/6 [==============================] - 0s 9ms/step - loss: 0.0038\n",
      "Epoch 74/1000\n",
      "6/6 [==============================] - 0s 9ms/step - loss: 0.0036\n",
      "Epoch 75/1000\n",
      "6/6 [==============================] - 0s 9ms/step - loss: 0.0035\n",
      "Epoch 76/1000\n",
      "6/6 [==============================] - 0s 9ms/step - loss: 0.0034\n",
      "Epoch 77/1000\n",
      "6/6 [==============================] - 0s 9ms/step - loss: 0.0033\n",
      "Epoch 78/1000\n",
      "6/6 [==============================] - 0s 9ms/step - loss: 0.0032\n",
      "Epoch 79/1000\n",
      "6/6 [==============================] - 0s 9ms/step - loss: 0.0031\n",
      "Epoch 80/1000\n",
      "6/6 [==============================] - 0s 9ms/step - loss: 0.0030\n",
      "Epoch 81/1000\n",
      "6/6 [==============================] - 0s 9ms/step - loss: 0.0029\n",
      "Epoch 82/1000\n",
      "6/6 [==============================] - 0s 9ms/step - loss: 0.0028\n",
      "Epoch 83/1000\n",
      "6/6 [==============================] - 0s 9ms/step - loss: 0.0027\n",
      "Epoch 84/1000\n",
      "6/6 [==============================] - 0s 9ms/step - loss: 0.0026\n",
      "Epoch 85/1000\n",
      "6/6 [==============================] - 0s 9ms/step - loss: 0.0025\n",
      "Epoch 86/1000\n",
      "6/6 [==============================] - 0s 10ms/step - loss: 0.0024\n",
      "Epoch 87/1000\n",
      "6/6 [==============================] - 0s 9ms/step - loss: 0.0023\n",
      "Epoch 88/1000\n",
      "6/6 [==============================] - 0s 9ms/step - loss: 0.0022\n",
      "Epoch 89/1000\n",
      "6/6 [==============================] - 0s 9ms/step - loss: 0.0021\n",
      "Epoch 90/1000\n",
      "6/6 [==============================] - 0s 8ms/step - loss: 0.0020\n",
      "Epoch 91/1000\n",
      "6/6 [==============================] - 0s 9ms/step - loss: 0.0020\n",
      "Epoch 92/1000\n",
      "6/6 [==============================] - 0s 9ms/step - loss: 0.0019\n",
      "Epoch 93/1000\n",
      "6/6 [==============================] - 0s 9ms/step - loss: 0.0018\n",
      "Epoch 94/1000\n",
      "6/6 [==============================] - 0s 9ms/step - loss: 0.0017\n",
      "Epoch 95/1000\n",
      "6/6 [==============================] - 0s 8ms/step - loss: 0.0017\n",
      "Epoch 96/1000\n",
      "6/6 [==============================] - 0s 9ms/step - loss: 0.0016\n",
      "Epoch 97/1000\n",
      "6/6 [==============================] - 0s 9ms/step - loss: 0.0016\n",
      "Epoch 98/1000\n",
      "6/6 [==============================] - 0s 9ms/step - loss: 0.0015\n",
      "Epoch 99/1000\n",
      "6/6 [==============================] - 0s 9ms/step - loss: 0.0015\n",
      "Epoch 100/1000\n",
      "6/6 [==============================] - 0s 9ms/step - loss: 0.0014\n",
      "Epoch 101/1000\n",
      "6/6 [==============================] - 0s 10ms/step - loss: 0.0013\n",
      "Epoch 102/1000\n",
      "6/6 [==============================] - 0s 10ms/step - loss: 0.0013\n",
      "Epoch 103/1000\n",
      "6/6 [==============================] - 0s 9ms/step - loss: 0.0012\n",
      "Epoch 104/1000\n",
      "6/6 [==============================] - 0s 9ms/step - loss: 0.0011\n",
      "Epoch 105/1000\n",
      "6/6 [==============================] - 0s 10ms/step - loss: 0.0011\n",
      "Epoch 106/1000\n",
      "6/6 [==============================] - 0s 9ms/step - loss: 0.0010\n",
      "Epoch 107/1000\n",
      "6/6 [==============================] - 0s 10ms/step - loss: 9.9329e-04\n",
      "Epoch 108/1000\n",
      "6/6 [==============================] - 0s 10ms/step - loss: 9.5404e-04\n",
      "Epoch 109/1000\n",
      "6/6 [==============================] - 0s 10ms/step - loss: 8.8956e-04\n",
      "Epoch 110/1000\n",
      "6/6 [==============================] - 0s 9ms/step - loss: 8.4526e-04\n",
      "Epoch 111/1000\n",
      "6/6 [==============================] - 0s 9ms/step - loss: 7.9458e-04\n",
      "Epoch 112/1000\n",
      "6/6 [==============================] - 0s 9ms/step - loss: 7.6882e-04\n",
      "Epoch 113/1000\n",
      "6/6 [==============================] - 0s 10ms/step - loss: 7.3153e-04\n",
      "Epoch 114/1000\n",
      "6/6 [==============================] - 0s 10ms/step - loss: 6.7918e-04\n",
      "Epoch 115/1000\n",
      "6/6 [==============================] - 0s 9ms/step - loss: 6.4223e-04\n",
      "Epoch 116/1000\n",
      "6/6 [==============================] - 0s 9ms/step - loss: 6.0882e-04\n",
      "Epoch 117/1000\n",
      "6/6 [==============================] - 0s 10ms/step - loss: 5.7448e-04\n",
      "Epoch 118/1000\n",
      "6/6 [==============================] - 0s 9ms/step - loss: 5.4961e-04\n",
      "Epoch 119/1000\n",
      "6/6 [==============================] - 0s 9ms/step - loss: 5.0975e-04\n",
      "Epoch 120/1000\n",
      "6/6 [==============================] - 0s 9ms/step - loss: 4.8737e-04\n",
      "Epoch 121/1000\n",
      "6/6 [==============================] - 0s 9ms/step - loss: 4.5403e-04\n",
      "Epoch 122/1000\n",
      "6/6 [==============================] - 0s 9ms/step - loss: 4.2450e-04\n",
      "Epoch 123/1000\n",
      "6/6 [==============================] - 0s 9ms/step - loss: 3.9706e-04\n",
      "Epoch 124/1000\n",
      "6/6 [==============================] - 0s 9ms/step - loss: 3.6904e-04\n",
      "Epoch 125/1000\n",
      "6/6 [==============================] - 0s 9ms/step - loss: 3.4646e-04\n",
      "Epoch 126/1000\n",
      "6/6 [==============================] - 0s 9ms/step - loss: 3.2628e-04\n",
      "Epoch 127/1000\n",
      "6/6 [==============================] - 0s 9ms/step - loss: 3.0648e-04\n",
      "Epoch 128/1000\n",
      "6/6 [==============================] - 0s 9ms/step - loss: 2.9773e-04\n",
      "Epoch 129/1000\n",
      "6/6 [==============================] - 0s 9ms/step - loss: 2.7237e-04\n",
      "Epoch 130/1000\n",
      "6/6 [==============================] - 0s 9ms/step - loss: 2.4942e-04\n",
      "Epoch 131/1000\n",
      "6/6 [==============================] - 0s 9ms/step - loss: 2.3544e-04\n",
      "Epoch 132/1000\n",
      "6/6 [==============================] - 0s 9ms/step - loss: 2.1662e-04\n",
      "Epoch 133/1000\n",
      "6/6 [==============================] - 0s 9ms/step - loss: 2.0031e-04\n",
      "Epoch 134/1000\n",
      "6/6 [==============================] - 0s 9ms/step - loss: 1.8717e-04\n",
      "Epoch 135/1000\n",
      "6/6 [==============================] - 0s 9ms/step - loss: 1.7541e-04\n",
      "Epoch 136/1000\n",
      "6/6 [==============================] - 0s 9ms/step - loss: 1.6487e-04\n",
      "Epoch 137/1000\n",
      "6/6 [==============================] - 0s 9ms/step - loss: 1.5272e-04\n",
      "Epoch 138/1000\n",
      "6/6 [==============================] - 0s 10ms/step - loss: 1.4472e-04\n",
      "Epoch 139/1000\n",
      "6/6 [==============================] - 0s 9ms/step - loss: 1.4452e-04\n",
      "Epoch 140/1000\n",
      "6/6 [==============================] - 0s 9ms/step - loss: 1.2483e-04\n",
      "Epoch 141/1000\n",
      "6/6 [==============================] - 0s 9ms/step - loss: 1.2092e-04\n",
      "Epoch 142/1000\n",
      "6/6 [==============================] - 0s 9ms/step - loss: 1.1230e-04\n",
      "Epoch 143/1000\n",
      "6/6 [==============================] - 0s 9ms/step - loss: 1.0332e-04\n",
      "Epoch 144/1000\n",
      "6/6 [==============================] - 0s 9ms/step - loss: 9.8893e-05\n",
      "Epoch 145/1000\n",
      "6/6 [==============================] - 0s 9ms/step - loss: 9.1564e-05\n",
      "Epoch 146/1000\n",
      "6/6 [==============================] - 0s 9ms/step - loss: 8.6929e-05\n",
      "Epoch 147/1000\n",
      "6/6 [==============================] - 0s 9ms/step - loss: 8.1013e-05\n",
      "Epoch 148/1000\n",
      "6/6 [==============================] - 0s 9ms/step - loss: 7.6388e-05\n",
      "Epoch 149/1000\n",
      "6/6 [==============================] - 0s 9ms/step - loss: 7.3891e-05\n",
      "Epoch 150/1000\n",
      "6/6 [==============================] - 0s 9ms/step - loss: 7.0777e-05\n",
      "Epoch 151/1000\n",
      "6/6 [==============================] - 0s 9ms/step - loss: 6.4367e-05\n",
      "Epoch 152/1000\n",
      "6/6 [==============================] - 0s 9ms/step - loss: 6.2411e-05\n",
      "Epoch 153/1000\n",
      "6/6 [==============================] - 0s 9ms/step - loss: 5.9166e-05\n",
      "Epoch 154/1000\n",
      "6/6 [==============================] - 0s 9ms/step - loss: 5.9365e-05\n",
      "Epoch 155/1000\n",
      "6/6 [==============================] - 0s 9ms/step - loss: 5.4229e-05\n",
      "Epoch 156/1000\n",
      "6/6 [==============================] - 0s 9ms/step - loss: 5.2374e-05\n",
      "Epoch 157/1000\n",
      "6/6 [==============================] - 0s 9ms/step - loss: 4.8712e-05\n",
      "Epoch 158/1000\n",
      "6/6 [==============================] - 0s 9ms/step - loss: 4.8932e-05\n",
      "Epoch 159/1000\n",
      "6/6 [==============================] - 0s 9ms/step - loss: 4.6454e-05\n",
      "Epoch 160/1000\n",
      "6/6 [==============================] - 0s 9ms/step - loss: 4.3179e-05\n",
      "Epoch 161/1000\n",
      "6/6 [==============================] - 0s 9ms/step - loss: 4.5260e-05\n",
      "Epoch 162/1000\n",
      "6/6 [==============================] - 0s 9ms/step - loss: 4.0519e-05\n",
      "Epoch 163/1000\n",
      "6/6 [==============================] - 0s 9ms/step - loss: 3.9007e-05\n",
      "Epoch 164/1000\n",
      "6/6 [==============================] - 0s 9ms/step - loss: 3.9065e-05\n",
      "Epoch 165/1000\n",
      "6/6 [==============================] - 0s 9ms/step - loss: 3.8443e-05\n",
      "Epoch 166/1000\n",
      "6/6 [==============================] - 0s 11ms/step - loss: 3.5143e-05\n",
      "Epoch 167/1000\n",
      "6/6 [==============================] - 0s 9ms/step - loss: 3.5479e-05\n",
      "Epoch 168/1000\n",
      "6/6 [==============================] - 0s 9ms/step - loss: 3.3416e-05\n",
      "Epoch 169/1000\n",
      "6/6 [==============================] - 0s 9ms/step - loss: 3.3027e-05\n",
      "Epoch 170/1000\n",
      "6/6 [==============================] - 0s 9ms/step - loss: 3.2816e-05\n",
      "Epoch 171/1000\n",
      "6/6 [==============================] - 0s 9ms/step - loss: 3.1151e-05\n",
      "Epoch 172/1000\n",
      "6/6 [==============================] - 0s 10ms/step - loss: 3.2525e-05\n",
      "Epoch 173/1000\n",
      "6/6 [==============================] - 0s 9ms/step - loss: 3.0760e-05\n",
      "Epoch 174/1000\n",
      "6/6 [==============================] - 0s 9ms/step - loss: 2.9406e-05\n",
      "Epoch 175/1000\n",
      "6/6 [==============================] - 0s 9ms/step - loss: 2.8290e-05\n",
      "Epoch 176/1000\n",
      "6/6 [==============================] - 0s 9ms/step - loss: 2.7763e-05\n",
      "Epoch 177/1000\n",
      "6/6 [==============================] - 0s 9ms/step - loss: 2.7715e-05\n",
      "Epoch 178/1000\n",
      "6/6 [==============================] - 0s 9ms/step - loss: 2.6656e-05\n",
      "Epoch 179/1000\n",
      "6/6 [==============================] - 0s 9ms/step - loss: 2.6595e-05\n",
      "Epoch 180/1000\n",
      "6/6 [==============================] - 0s 9ms/step - loss: 2.6613e-05\n",
      "Epoch 181/1000\n",
      "6/6 [==============================] - 0s 9ms/step - loss: 2.5351e-05\n",
      "Epoch 182/1000\n",
      "6/6 [==============================] - 0s 9ms/step - loss: 2.4329e-05\n",
      "Epoch 183/1000\n",
      "6/6 [==============================] - 0s 9ms/step - loss: 2.4143e-05\n",
      "Epoch 184/1000\n",
      "6/6 [==============================] - 0s 9ms/step - loss: 2.4103e-05\n",
      "Epoch 185/1000\n",
      "6/6 [==============================] - 0s 9ms/step - loss: 2.3178e-05\n",
      "Epoch 186/1000\n",
      "6/6 [==============================] - 0s 9ms/step - loss: 2.3112e-05\n",
      "Epoch 187/1000\n",
      "6/6 [==============================] - 0s 9ms/step - loss: 2.2292e-05\n",
      "Epoch 188/1000\n",
      "6/6 [==============================] - 0s 9ms/step - loss: 2.2593e-05\n",
      "Epoch 189/1000\n",
      "6/6 [==============================] - 0s 9ms/step - loss: 2.1756e-05\n",
      "Epoch 190/1000\n",
      "6/6 [==============================] - 0s 9ms/step - loss: 2.1316e-05\n",
      "Epoch 191/1000\n",
      "6/6 [==============================] - 0s 10ms/step - loss: 2.1233e-05\n",
      "Epoch 192/1000\n",
      "6/6 [==============================] - 0s 10ms/step - loss: 2.0879e-05\n",
      "Epoch 193/1000\n",
      "6/6 [==============================] - 0s 10ms/step - loss: 2.1932e-05\n",
      "Epoch 194/1000\n",
      "6/6 [==============================] - 0s 10ms/step - loss: 2.0323e-05\n",
      "Epoch 195/1000\n",
      "6/6 [==============================] - 0s 9ms/step - loss: 2.0296e-05\n",
      "Epoch 196/1000\n",
      "6/6 [==============================] - 0s 9ms/step - loss: 1.9472e-05\n",
      "Epoch 197/1000\n",
      "6/6 [==============================] - 0s 9ms/step - loss: 1.9768e-05\n",
      "Epoch 198/1000\n",
      "6/6 [==============================] - 0s 9ms/step - loss: 1.9510e-05\n",
      "Epoch 199/1000\n",
      "6/6 [==============================] - 0s 9ms/step - loss: 1.9282e-05\n",
      "Epoch 200/1000\n",
      "6/6 [==============================] - 0s 8ms/step - loss: 1.8487e-05\n",
      "Epoch 201/1000\n",
      "6/6 [==============================] - 0s 9ms/step - loss: 1.8330e-05\n",
      "Epoch 202/1000\n",
      "6/6 [==============================] - 0s 9ms/step - loss: 1.8171e-05\n",
      "Epoch 203/1000\n",
      "6/6 [==============================] - 0s 9ms/step - loss: 1.7969e-05\n",
      "Epoch 204/1000\n",
      "6/6 [==============================] - 0s 9ms/step - loss: 1.8061e-05\n",
      "Epoch 205/1000\n",
      "6/6 [==============================] - 0s 9ms/step - loss: 1.7475e-05\n",
      "Epoch 206/1000\n",
      "6/6 [==============================] - 0s 9ms/step - loss: 1.7689e-05\n",
      "Epoch 207/1000\n",
      "6/6 [==============================] - 0s 9ms/step - loss: 1.7845e-05\n",
      "Epoch 208/1000\n",
      "6/6 [==============================] - 0s 9ms/step - loss: 1.9033e-05\n",
      "Epoch 209/1000\n",
      "6/6 [==============================] - 0s 9ms/step - loss: 1.8400e-05\n",
      "Epoch 210/1000\n",
      "6/6 [==============================] - 0s 9ms/step - loss: 1.8256e-05\n"
     ]
    }
   ],
   "source": [
    "history = lstm_model.fit(dataset_x, dataset_y, epochs=1000, callbacks=[early_stopping])"
   ],
   "metadata": {
    "collapsed": false
   }
  },
  {
   "cell_type": "code",
   "execution_count": 18,
   "outputs": [
    {
     "name": "stdout",
     "output_type": "stream",
     "text": [
      "3/3 [==============================] - 0s 7ms/step\n"
     ]
    },
    {
     "name": "stderr",
     "output_type": "stream",
     "text": [
      "2023-01-18 04:27:18.604470: I tensorflow/core/grappler/optimizers/custom_graph_optimizer_registry.cc:114] Plugin optimizer for device_type GPU is enabled.\n",
      "2023-01-18 04:27:18.629729: I tensorflow/core/grappler/optimizers/custom_graph_optimizer_registry.cc:114] Plugin optimizer for device_type GPU is enabled.\n"
     ]
    }
   ],
   "source": [
    "pred_y = lstm_model.predict(test_x)"
   ],
   "metadata": {
    "collapsed": false
   }
  },
  {
   "cell_type": "code",
   "execution_count": 19,
   "outputs": [
    {
     "data": {
      "text/plain": "<Figure size 640x480 with 1 Axes>",
      "image/png": "[encoded data removed]"
     },
     "metadata": {},
     "output_type": "display_data"
    }
   ],
   "source": [
    "len_fixed_pred_y = np.append(y[:x_ticks], pred_y)\n",
    "plt.plot(x, y, label=\"groundtruth\", color=\"blue\")\n",
    "plt.plot(x, len_fixed_pred_y, label=\"predictions\", color=\"orange\")\n",
    "plt.legend(loc=\"upper left\")\n",
    "plt.ylim(-2, 2)\n",
    "plt.show()"
   ],
   "metadata": {
    "collapsed": false
   }
  },
  {
   "cell_type": "markdown",
   "source": [
    "# 양방향 LSTM(Bi-directional LSTM)\n",
    "LSTM은 시퀀스 내 현재 시점을 오로지 이전 시점의 정보들로만 학습하고 추론한다는 한계가 있다.\n",
    "이 문제를 해결코자 시퀀스 현재 시점 전후를 모두 읽어들이도록 확장한 LSTM이 양방향 LSTM이다.\n",
    "간단하게 h_t = f(forward_lstm, backward_lstm) 정도로 표현할 수 있다.\n"
   ],
   "metadata": {
    "collapsed": false
   }
  },
  {
   "cell_type": "code",
   "execution_count": 28,
   "outputs": [],
   "source": [
    "def get_sequence(length: int) -> Tuple:\n",
    "    x = np.array([random() for _ in range(length)])\n",
    "    limit = length / 4.0\n",
    "    y = np.array([0 if elem < limit else 1 for elem in np.cumsum(x)])\n",
    "\n",
    "    # 양방향 LSTM 레이어에서 요구하는 형태(n_dim = 3)로 전처리.\n",
    "    x = x.reshape(1, length, 1)\n",
    "    y = y.reshape(1, length, 1)\n",
    "\n",
    "    return x, y"
   ],
   "metadata": {
    "collapsed": false,
    "pycharm": {
     "name": "#%%ㅈ\n"
    }
   }
  },
  {
   "cell_type": "code",
   "execution_count": 60,
   "outputs": [],
   "source": [
    "n_units = 20\n",
    "n_timestpes = 100"
   ],
   "metadata": {
    "collapsed": false
   }
  },
  {
   "cell_type": "code",
   "execution_count": 61,
   "outputs": [],
   "source": [
    "input_layer = keras.layers.Input(shape=(n_timestpes, 1))\n",
    "bi_lstm_layer = keras.layers.Bidirectional(\n",
    "    keras.layers.LSTM(units=n_units,\n",
    "                      return_sequences=True))(input_layer)\n",
    "dense_layer = keras.layers.TimeDistributed(\n",
    "    keras.layers.Dense(1, activation=\"sigmoid\"))(bi_lstm_layer)\n",
    "bi_lstm_model = keras.Model(inputs=input_layer, outputs=dense_layer)\n",
    "\n",
    "bi_lstm_model.compile(loss=\"binary_crossentropy\",\n",
    "                      optimizer=keras.optimizers.legacy.Adam(),\n",
    "                      metrics=[\"accuracy\"])"
   ],
   "metadata": {
    "collapsed": false
   }
  },
  {
   "cell_type": "code",
   "execution_count": 62,
   "outputs": [],
   "source": [
    "dataset_x, dataset_y = get_sequence(n_timestpes)\n",
    "test_x, test_y = get_sequence(n_timestpes)"
   ],
   "metadata": {
    "collapsed": false
   }
  },
  {
   "cell_type": "code",
   "execution_count": 63,
   "outputs": [
    {
     "name": "stdout",
     "output_type": "stream",
     "text": [
      "Epoch 1/1000\n"
     ]
    },
    {
     "name": "stderr",
     "output_type": "stream",
     "text": [
      "2023-01-18 04:48:03.326307: I tensorflow/core/grappler/optimizers/custom_graph_optimizer_registry.cc:114] Plugin optimizer for device_type GPU is enabled.\n",
      "2023-01-18 04:48:03.467107: I tensorflow/core/grappler/optimizers/custom_graph_optimizer_registry.cc:114] Plugin optimizer for device_type GPU is enabled.\n",
      "2023-01-18 04:48:03.479619: I tensorflow/core/grappler/optimizers/custom_graph_optimizer_registry.cc:114] Plugin optimizer for device_type GPU is enabled.\n"
     ]
    },
    {
     "name": "stdout",
     "output_type": "stream",
     "text": [
      "1/1 [==============================] - 2s 2s/step - loss: 0.6981 - accuracy: 0.4900\n",
      "Epoch 2/1000\n",
      "1/1 [==============================] - 0s 48ms/step - loss: 0.6971 - accuracy: 0.4900\n",
      "Epoch 3/1000\n"
     ]
    },
    {
     "name": "stderr",
     "output_type": "stream",
     "text": [
      "2023-01-18 04:48:03.641386: I tensorflow/core/grappler/optimizers/custom_graph_optimizer_registry.cc:114] Plugin optimizer for device_type GPU is enabled.\n",
      "2023-01-18 04:48:03.657846: I tensorflow/core/grappler/optimizers/custom_graph_optimizer_registry.cc:114] Plugin optimizer for device_type GPU is enabled.\n"
     ]
    },
    {
     "name": "stdout",
     "output_type": "stream",
     "text": [
      "1/1 [==============================] - 0s 42ms/step - loss: 0.6961 - accuracy: 0.4900\n",
      "Epoch 4/1000\n",
      "1/1 [==============================] - 0s 40ms/step - loss: 0.6952 - accuracy: 0.4900\n",
      "Epoch 5/1000\n",
      "1/1 [==============================] - 0s 38ms/step - loss: 0.6944 - accuracy: 0.4900\n",
      "Epoch 6/1000\n",
      "1/1 [==============================] - 0s 40ms/step - loss: 0.6936 - accuracy: 0.4900\n",
      "Epoch 7/1000\n",
      "1/1 [==============================] - 0s 38ms/step - loss: 0.6929 - accuracy: 0.4900\n",
      "Epoch 8/1000\n",
      "1/1 [==============================] - 0s 39ms/step - loss: 0.6922 - accuracy: 0.4900\n",
      "Epoch 9/1000\n",
      "1/1 [==============================] - 0s 36ms/step - loss: 0.6915 - accuracy: 0.4900\n",
      "Epoch 10/1000\n",
      "1/1 [==============================] - 0s 34ms/step - loss: 0.6908 - accuracy: 0.4900\n",
      "Epoch 11/1000\n",
      "1/1 [==============================] - 0s 28ms/step - loss: 0.6901 - accuracy: 0.4900\n",
      "Epoch 12/1000\n",
      "1/1 [==============================] - 0s 32ms/step - loss: 0.6893 - accuracy: 0.4900\n",
      "Epoch 13/1000\n",
      "1/1 [==============================] - 0s 38ms/step - loss: 0.6886 - accuracy: 0.4900\n",
      "Epoch 14/1000\n",
      "1/1 [==============================] - 0s 36ms/step - loss: 0.6878 - accuracy: 0.5300\n",
      "Epoch 15/1000\n",
      "1/1 [==============================] - 0s 35ms/step - loss: 0.6869 - accuracy: 0.5400\n",
      "Epoch 16/1000\n",
      "1/1 [==============================] - 0s 36ms/step - loss: 0.6859 - accuracy: 0.5400\n",
      "Epoch 17/1000\n",
      "1/1 [==============================] - 0s 36ms/step - loss: 0.6849 - accuracy: 0.5600\n",
      "Epoch 18/1000\n",
      "1/1 [==============================] - 0s 34ms/step - loss: 0.6838 - accuracy: 0.5700\n",
      "Epoch 19/1000\n",
      "1/1 [==============================] - 0s 27ms/step - loss: 0.6826 - accuracy: 0.5700\n",
      "Epoch 20/1000\n",
      "1/1 [==============================] - 0s 29ms/step - loss: 0.6812 - accuracy: 0.5700\n",
      "Epoch 21/1000\n",
      "1/1 [==============================] - 0s 33ms/step - loss: 0.6796 - accuracy: 0.5800\n",
      "Epoch 22/1000\n",
      "1/1 [==============================] - 0s 34ms/step - loss: 0.6779 - accuracy: 0.5800\n",
      "Epoch 23/1000\n",
      "1/1 [==============================] - 0s 35ms/step - loss: 0.6759 - accuracy: 0.5800\n",
      "Epoch 24/1000\n",
      "1/1 [==============================] - 0s 34ms/step - loss: 0.6736 - accuracy: 0.5800\n",
      "Epoch 25/1000\n",
      "1/1 [==============================] - 0s 35ms/step - loss: 0.6710 - accuracy: 0.5900\n",
      "Epoch 26/1000\n",
      "1/1 [==============================] - 0s 34ms/step - loss: 0.6679 - accuracy: 0.5900\n",
      "Epoch 27/1000\n",
      "1/1 [==============================] - 0s 31ms/step - loss: 0.6644 - accuracy: 0.6000\n",
      "Epoch 28/1000\n",
      "1/1 [==============================] - 0s 28ms/step - loss: 0.6603 - accuracy: 0.6000\n",
      "Epoch 29/1000\n",
      "1/1 [==============================] - 0s 29ms/step - loss: 0.6557 - accuracy: 0.6100\n",
      "Epoch 30/1000\n",
      "1/1 [==============================] - 0s 34ms/step - loss: 0.6504 - accuracy: 0.6100\n",
      "Epoch 31/1000\n",
      "1/1 [==============================] - 0s 34ms/step - loss: 0.6445 - accuracy: 0.6200\n",
      "Epoch 32/1000\n",
      "1/1 [==============================] - 0s 35ms/step - loss: 0.6380 - accuracy: 0.6300\n",
      "Epoch 33/1000\n",
      "1/1 [==============================] - 0s 34ms/step - loss: 0.6308 - accuracy: 0.6400\n",
      "Epoch 34/1000\n",
      "1/1 [==============================] - 0s 34ms/step - loss: 0.6227 - accuracy: 0.6500\n",
      "Epoch 35/1000\n",
      "1/1 [==============================] - 0s 34ms/step - loss: 0.6134 - accuracy: 0.6700\n",
      "Epoch 36/1000\n",
      "1/1 [==============================] - 0s 35ms/step - loss: 0.6025 - accuracy: 0.6900\n",
      "Epoch 37/1000\n",
      "1/1 [==============================] - 0s 34ms/step - loss: 0.5897 - accuracy: 0.7200\n",
      "Epoch 38/1000\n",
      "1/1 [==============================] - 0s 35ms/step - loss: 0.5745 - accuracy: 0.7600\n",
      "Epoch 39/1000\n",
      "1/1 [==============================] - 0s 33ms/step - loss: 0.5572 - accuracy: 0.8100\n",
      "Epoch 40/1000\n",
      "1/1 [==============================] - 0s 35ms/step - loss: 0.5391 - accuracy: 0.8900\n",
      "Epoch 41/1000\n",
      "1/1 [==============================] - 0s 35ms/step - loss: 0.5247 - accuracy: 0.9800\n",
      "Epoch 42/1000\n",
      "1/1 [==============================] - 0s 32ms/step - loss: 0.5163 - accuracy: 0.9500\n",
      "Epoch 43/1000\n",
      "1/1 [==============================] - 0s 27ms/step - loss: 0.4995 - accuracy: 0.9500\n",
      "Epoch 44/1000\n",
      "1/1 [==============================] - 0s 30ms/step - loss: 0.4773 - accuracy: 0.9800\n",
      "Epoch 45/1000\n",
      "1/1 [==============================] - 0s 33ms/step - loss: 0.4620 - accuracy: 0.9800\n",
      "Epoch 46/1000\n",
      "1/1 [==============================] - 0s 34ms/step - loss: 0.4518 - accuracy: 0.9600\n",
      "Epoch 47/1000\n",
      "1/1 [==============================] - 0s 28ms/step - loss: 0.4381 - accuracy: 0.9600\n",
      "Epoch 48/1000\n",
      "1/1 [==============================] - 0s 31ms/step - loss: 0.4204 - accuracy: 1.0000\n",
      "Epoch 49/1000\n",
      "1/1 [==============================] - 0s 35ms/step - loss: 0.4143 - accuracy: 0.9400\n",
      "Epoch 50/1000\n",
      "1/1 [==============================] - 0s 32ms/step - loss: 0.4010 - accuracy: 0.9500\n",
      "Epoch 51/1000\n",
      "1/1 [==============================] - 0s 28ms/step - loss: 0.3909 - accuracy: 1.0000\n",
      "Epoch 52/1000\n",
      "1/1 [==============================] - 0s 30ms/step - loss: 0.3860 - accuracy: 0.9800\n",
      "Epoch 53/1000\n",
      "1/1 [==============================] - 0s 33ms/step - loss: 0.3713 - accuracy: 0.9900\n",
      "Epoch 54/1000\n",
      "1/1 [==============================] - 0s 33ms/step - loss: 0.3766 - accuracy: 0.9200\n",
      "Epoch 55/1000\n",
      "1/1 [==============================] - 0s 31ms/step - loss: 0.3583 - accuracy: 0.9900\n",
      "Epoch 56/1000\n",
      "1/1 [==============================] - 0s 28ms/step - loss: 0.3613 - accuracy: 0.9600\n",
      "Epoch 57/1000\n",
      "1/1 [==============================] - 0s 30ms/step - loss: 0.3453 - accuracy: 0.9800\n",
      "Epoch 58/1000\n",
      "1/1 [==============================] - 0s 33ms/step - loss: 0.3441 - accuracy: 0.9400\n",
      "Epoch 59/1000\n",
      "1/1 [==============================] - 0s 35ms/step - loss: 0.3247 - accuracy: 0.9900\n",
      "Epoch 60/1000\n",
      "1/1 [==============================] - 0s 38ms/step - loss: 0.3243 - accuracy: 0.9800\n",
      "Epoch 61/1000\n",
      "1/1 [==============================] - 0s 34ms/step - loss: 0.3106 - accuracy: 1.0000\n",
      "Epoch 62/1000\n",
      "1/1 [==============================] - 0s 36ms/step - loss: 0.3150 - accuracy: 0.9400\n",
      "Epoch 63/1000\n",
      "1/1 [==============================] - 0s 33ms/step - loss: 0.3016 - accuracy: 0.9800\n",
      "Epoch 64/1000\n",
      "1/1 [==============================] - 0s 34ms/step - loss: 0.3002 - accuracy: 0.9700\n",
      "Epoch 65/1000\n",
      "1/1 [==============================] - 0s 35ms/step - loss: 0.2793 - accuracy: 0.9900\n",
      "Epoch 66/1000\n",
      "1/1 [==============================] - 0s 34ms/step - loss: 0.2962 - accuracy: 0.9300\n",
      "Epoch 67/1000\n",
      "1/1 [==============================] - 0s 36ms/step - loss: 0.2829 - accuracy: 0.9600\n",
      "Epoch 68/1000\n",
      "1/1 [==============================] - 0s 34ms/step - loss: 0.2946 - accuracy: 0.9300\n",
      "Epoch 69/1000\n",
      "1/1 [==============================] - 0s 34ms/step - loss: 0.2734 - accuracy: 0.9500\n",
      "Epoch 70/1000\n",
      "1/1 [==============================] - 0s 35ms/step - loss: 0.2429 - accuracy: 0.9800\n",
      "Epoch 71/1000\n",
      "1/1 [==============================] - 0s 27ms/step - loss: 0.2702 - accuracy: 0.9200\n",
      "Epoch 72/1000\n",
      "1/1 [==============================] - 0s 29ms/step - loss: 0.2410 - accuracy: 0.9600\n",
      "Epoch 73/1000\n",
      "1/1 [==============================] - 0s 32ms/step - loss: 0.2607 - accuracy: 0.9300\n",
      "Epoch 74/1000\n",
      "1/1 [==============================] - 0s 35ms/step - loss: 0.2494 - accuracy: 0.9300\n",
      "Epoch 75/1000\n",
      "1/1 [==============================] - 0s 35ms/step - loss: 0.2102 - accuracy: 0.9700\n",
      "Epoch 76/1000\n",
      "1/1 [==============================] - 0s 32ms/step - loss: 0.2173 - accuracy: 0.9400\n",
      "Epoch 77/1000\n",
      "1/1 [==============================] - 0s 27ms/step - loss: 0.1934 - accuracy: 0.9700\n",
      "Epoch 78/1000\n",
      "1/1 [==============================] - 0s 29ms/step - loss: 0.1864 - accuracy: 0.9700\n",
      "Epoch 79/1000\n",
      "1/1 [==============================] - 0s 30ms/step - loss: 0.1917 - accuracy: 0.9600\n",
      "Epoch 80/1000\n",
      "1/1 [==============================] - 0s 35ms/step - loss: 0.1690 - accuracy: 0.9800\n",
      "Epoch 81/1000\n",
      "1/1 [==============================] - 0s 34ms/step - loss: 0.1627 - accuracy: 0.9800\n",
      "Epoch 82/1000\n",
      "1/1 [==============================] - 0s 34ms/step - loss: 0.1666 - accuracy: 0.9600\n",
      "Epoch 83/1000\n",
      "1/1 [==============================] - 0s 34ms/step - loss: 0.1461 - accuracy: 1.0000\n",
      "Epoch 84/1000\n",
      "1/1 [==============================] - 0s 35ms/step - loss: 0.1505 - accuracy: 0.9700\n",
      "Epoch 85/1000\n",
      "1/1 [==============================] - 0s 33ms/step - loss: 0.1460 - accuracy: 0.9700\n",
      "Epoch 86/1000\n",
      "1/1 [==============================] - 0s 28ms/step - loss: 0.1303 - accuracy: 1.0000\n",
      "Epoch 87/1000\n",
      "1/1 [==============================] - 0s 30ms/step - loss: 0.1368 - accuracy: 0.9700\n",
      "Epoch 88/1000\n",
      "1/1 [==============================] - 0s 32ms/step - loss: 0.1248 - accuracy: 0.9900\n",
      "Epoch 89/1000\n",
      "1/1 [==============================] - 0s 33ms/step - loss: 0.1243 - accuracy: 0.9800\n",
      "Epoch 90/1000\n",
      "1/1 [==============================] - 0s 36ms/step - loss: 0.1203 - accuracy: 0.9800\n",
      "Epoch 91/1000\n",
      "1/1 [==============================] - 0s 34ms/step - loss: 0.1125 - accuracy: 1.0000\n",
      "Epoch 92/1000\n",
      "1/1 [==============================] - 0s 34ms/step - loss: 0.1156 - accuracy: 0.9800\n",
      "Epoch 93/1000\n",
      "1/1 [==============================] - 0s 33ms/step - loss: 0.1071 - accuracy: 0.9900\n",
      "Epoch 94/1000\n",
      "1/1 [==============================] - 0s 27ms/step - loss: 0.1061 - accuracy: 0.9900\n",
      "Epoch 95/1000\n",
      "1/1 [==============================] - 0s 29ms/step - loss: 0.1035 - accuracy: 0.9900\n",
      "Epoch 96/1000\n",
      "1/1 [==============================] - 0s 32ms/step - loss: 0.0986 - accuracy: 0.9900\n",
      "Epoch 97/1000\n",
      "1/1 [==============================] - 0s 34ms/step - loss: 0.0993 - accuracy: 0.9800\n",
      "Epoch 98/1000\n",
      "1/1 [==============================] - 0s 28ms/step - loss: 0.0930 - accuracy: 0.9900\n",
      "Epoch 99/1000\n",
      "1/1 [==============================] - 0s 29ms/step - loss: 0.0940 - accuracy: 0.9900\n",
      "Epoch 100/1000\n",
      "1/1 [==============================] - 0s 33ms/step - loss: 0.0887 - accuracy: 1.0000\n",
      "Epoch 101/1000\n",
      "1/1 [==============================] - 0s 35ms/step - loss: 0.0897 - accuracy: 0.9900\n",
      "Epoch 102/1000\n",
      "1/1 [==============================] - 0s 34ms/step - loss: 0.0842 - accuracy: 1.0000\n",
      "Epoch 103/1000\n",
      "1/1 [==============================] - 0s 34ms/step - loss: 0.0858 - accuracy: 0.9900\n",
      "Epoch 104/1000\n",
      "1/1 [==============================] - 0s 34ms/step - loss: 0.0810 - accuracy: 1.0000\n",
      "Epoch 105/1000\n",
      "1/1 [==============================] - 0s 32ms/step - loss: 0.0814 - accuracy: 0.9900\n",
      "Epoch 106/1000\n",
      "1/1 [==============================] - 0s 27ms/step - loss: 0.0782 - accuracy: 0.9900\n",
      "Epoch 107/1000\n",
      "1/1 [==============================] - 0s 29ms/step - loss: 0.0768 - accuracy: 0.9900\n",
      "Epoch 108/1000\n",
      "1/1 [==============================] - 0s 30ms/step - loss: 0.0762 - accuracy: 0.9900\n",
      "Epoch 109/1000\n",
      "1/1 [==============================] - 0s 34ms/step - loss: 0.0731 - accuracy: 1.0000\n",
      "Epoch 110/1000\n",
      "1/1 [==============================] - 0s 35ms/step - loss: 0.0739 - accuracy: 0.9900\n",
      "Epoch 111/1000\n",
      "1/1 [==============================] - 0s 33ms/step - loss: 0.0705 - accuracy: 1.0000\n",
      "Epoch 112/1000\n",
      "1/1 [==============================] - 0s 34ms/step - loss: 0.0700 - accuracy: 0.9900\n",
      "Epoch 113/1000\n",
      "1/1 [==============================] - 0s 35ms/step - loss: 0.0695 - accuracy: 0.9900\n",
      "Epoch 114/1000\n",
      "1/1 [==============================] - 0s 34ms/step - loss: 0.0665 - accuracy: 1.0000\n",
      "Epoch 115/1000\n",
      "1/1 [==============================] - 0s 34ms/step - loss: 0.0664 - accuracy: 0.9900\n",
      "Epoch 116/1000\n",
      "1/1 [==============================] - 0s 35ms/step - loss: 0.0654 - accuracy: 0.9900\n",
      "Epoch 117/1000\n",
      "1/1 [==============================] - 0s 34ms/step - loss: 0.0631 - accuracy: 1.0000\n",
      "Epoch 118/1000\n",
      "1/1 [==============================] - 0s 35ms/step - loss: 0.0628 - accuracy: 1.0000\n",
      "Epoch 119/1000\n",
      "1/1 [==============================] - 0s 34ms/step - loss: 0.0626 - accuracy: 0.9900\n",
      "Epoch 120/1000\n",
      "1/1 [==============================] - 0s 34ms/step - loss: 0.0608 - accuracy: 1.0000\n",
      "Epoch 121/1000\n",
      "1/1 [==============================] - 0s 35ms/step - loss: 0.0592 - accuracy: 1.0000\n",
      "Epoch 122/1000\n",
      "1/1 [==============================] - 0s 34ms/step - loss: 0.0590 - accuracy: 1.0000\n",
      "Epoch 123/1000\n",
      "1/1 [==============================] - 0s 35ms/step - loss: 0.0588 - accuracy: 0.9900\n",
      "Epoch 124/1000\n",
      "1/1 [==============================] - 0s 27ms/step - loss: 0.0575 - accuracy: 0.9900\n",
      "Epoch 125/1000\n",
      "1/1 [==============================] - 0s 28ms/step - loss: 0.0560 - accuracy: 1.0000\n",
      "Epoch 126/1000\n",
      "1/1 [==============================] - 0s 30ms/step - loss: 0.0549 - accuracy: 1.0000\n",
      "Epoch 127/1000\n",
      "1/1 [==============================] - 0s 34ms/step - loss: 0.0544 - accuracy: 1.0000\n",
      "Epoch 128/1000\n",
      "1/1 [==============================] - 0s 34ms/step - loss: 0.0543 - accuracy: 1.0000\n",
      "Epoch 129/1000\n",
      "1/1 [==============================] - 0s 34ms/step - loss: 0.0544 - accuracy: 0.9900\n",
      "Epoch 130/1000\n",
      "1/1 [==============================] - 0s 35ms/step - loss: 0.0551 - accuracy: 0.9900\n",
      "Epoch 131/1000\n",
      "1/1 [==============================] - 0s 33ms/step - loss: 0.0551 - accuracy: 0.9900\n",
      "Epoch 132/1000\n",
      "1/1 [==============================] - 0s 34ms/step - loss: 0.0545 - accuracy: 0.9900\n",
      "Epoch 133/1000\n",
      "1/1 [==============================] - 0s 35ms/step - loss: 0.0520 - accuracy: 0.9900\n",
      "Epoch 134/1000\n",
      "1/1 [==============================] - 0s 33ms/step - loss: 0.0498 - accuracy: 1.0000\n",
      "Epoch 135/1000\n",
      "1/1 [==============================] - 0s 27ms/step - loss: 0.0487 - accuracy: 1.0000\n",
      "Epoch 136/1000\n",
      "1/1 [==============================] - 0s 29ms/step - loss: 0.0490 - accuracy: 1.0000\n",
      "Epoch 137/1000\n",
      "1/1 [==============================] - 0s 32ms/step - loss: 0.0503 - accuracy: 0.9900\n",
      "Epoch 138/1000\n",
      "1/1 [==============================] - 0s 35ms/step - loss: 0.0525 - accuracy: 0.9900\n",
      "Epoch 139/1000\n",
      "1/1 [==============================] - 0s 32ms/step - loss: 0.0533 - accuracy: 0.9900\n",
      "Epoch 140/1000\n",
      "1/1 [==============================] - 0s 34ms/step - loss: 0.0492 - accuracy: 0.9900\n"
     ]
    }
   ],
   "source": [
    "history = bi_lstm_model.fit(dataset_x, dataset_y, epochs=1000, callbacks=[early_stopping])"
   ],
   "metadata": {
    "collapsed": false
   }
  },
  {
   "cell_type": "code",
   "execution_count": 68,
   "outputs": [
    {
     "name": "stdout",
     "output_type": "stream",
     "text": [
      "WARNING:tensorflow:5 out of the last 9 calls to <function Model.make_predict_function.<locals>.predict_function at 0x2e1e21430> triggered tf.function retracing. Tracing is expensive and the excessive number of tracings could be due to (1) creating @tf.function repeatedly in a loop, (2) passing tensors with different shapes, (3) passing Python objects instead of tensors. For (1), please define your @tf.function outside of the loop. For (2), @tf.function has reduce_retracing=True option that can avoid unnecessary retracing. For (3), please refer to https://www.tensorflow.org/guide/function#controlling_retracing and https://www.tensorflow.org/api_docs/python/tf/function for  more details.\n",
      "1/1 [==============================] - 0s 385ms/step\n"
     ]
    },
    {
     "name": "stderr",
     "output_type": "stream",
     "text": [
      "2023-01-18 04:48:57.693103: I tensorflow/core/grappler/optimizers/custom_graph_optimizer_registry.cc:114] Plugin optimizer for device_type GPU is enabled.\n",
      "2023-01-18 04:48:57.736997: I tensorflow/core/grappler/optimizers/custom_graph_optimizer_registry.cc:114] Plugin optimizer for device_type GPU is enabled.\n",
      "2023-01-18 04:48:57.745239: I tensorflow/core/grappler/optimizers/custom_graph_optimizer_registry.cc:114] Plugin optimizer for device_type GPU is enabled.\n"
     ]
    }
   ],
   "source": [
    "pred_y = bi_lstm_model.predict(test_x)"
   ],
   "metadata": {
    "collapsed": false
   }
  },
  {
   "cell_type": "code",
   "execution_count": 69,
   "outputs": [
    {
     "data": {
      "text/plain": "(1, 100, 1)"
     },
     "execution_count": 69,
     "metadata": {},
     "output_type": "execute_result"
    }
   ],
   "source": [
    "pred_y.shape"
   ],
   "metadata": {
    "collapsed": false
   }
  },
  {
   "cell_type": "code",
   "execution_count": 75,
   "outputs": [
    {
     "name": "stdout",
     "output_type": "stream",
     "text": [
      "0.88\n"
     ]
    }
   ],
   "source": [
    "threshold = 0.05  # 차이가 이 값 미만이면 맞춘 걸로 인정.\n",
    "ans = np.abs(pred_y - test_y) < threshold\n",
    "acc = np.sum(ans) / n_timestpes\n",
    "print(acc)"
   ],
   "metadata": {
    "collapsed": false
   }
  },
  {
   "cell_type": "markdown",
   "source": [
    "# 개체명 인식(NER: Named Entity Recognition)\n",
    "\"오늘 먹은 것은 제육볶음이다.\"란 문장이 있다고 하면 여기서 \"오늘\"은 \"날짜\", \"제육볶음\"은 \"음식\"이란\n",
    "범주로 파악할 수 있다. 여기서 \"날짜\", \"음식\" 등 범주나 유형 등을 '개체명'이라고 부른다. 텍스트 내에서\n",
    "단어의 개체명을 파악하는 일을 '개체명 인식'이라고 부른다.\n",
    "\n",
    "텍스트 내 단어에 개체명을 붙이기 위한 표기법으로 'BIO(beginning, Inside, Outside) 표기법'이 있다.\n",
    "B는 개체명이 시작하는 단어에, I는 B 태깅된 단어 뒤에서 그 개체명에 속하는 단어에, O는 아무 것도 아닌\n",
    "단어에 붙이는 태그다.\n",
    "\"'도미니크 공화국'은 카리브 해의 히스파니올라 섬 동쪽 약 5/8을 차지하고 있는 나라다(나무위키).\"는\n",
    "도미니크(B-country), 공화국(I-country), 카리브(B-sea), 해(I-sea), 히스파니올라(B-island),\n",
    "섬(I-island) 등으로 태깅할 수 있다('B-country'등은 임의로 붙인 것).\n",
    "\n",
    "여기 사용된 데이터셋은 [KoreanNERCorpus](https://github.com/machinereading/KoreanNERCorpus)에서 받음."
   ],
   "metadata": {
    "collapsed": false
   }
  },
  {
   "cell_type": "code",
   "execution_count": 95,
   "outputs": [],
   "source": [
    "def read_file(file):\n",
    "    \"\"\"데이터 파일을 파싱\n",
    "\n",
    "    파일은\n",
    "        1. 세미콜론으로 시작하는 원본 문장,\n",
    "        2. 그 다음엔 달러 기호로 시작하는 BIO 태깅된 문장,\n",
    "        3. 그 이후부터 다음 원본 문장 전까지는 각 토큰의 피처들의 나열(ID, token, POS, BIO)\n",
    "    이렇게 세 종류의 줄로 이루어져 있다.\n",
    "\n",
    "    :param file: BIO 토큰 정보를 가진 파일.\n",
    "    :return: 각 줄의 모든 피처를 열거한 리스트: [feats_sentence1, feats_sentence2, ...]\n",
    "    \"\"\"\n",
    "\n",
    "    # 어떤 라인인지 파악하기 위한 조건\n",
    "    def is_original_line(cur_i, lines):\n",
    "        if cur_i >= len(lines) - 1:\n",
    "            return False\n",
    "        else:\n",
    "            cur_line, next_line = lines[cur_i], lines[cur_i + 1]\n",
    "            cur_first_char = cur_line[0]\n",
    "            next_first_char = next_line[0]\n",
    "            return cur_first_char == \";\" and next_first_char == '$'\n",
    "\n",
    "    def is_ner_processed_line(cur_i, lines):\n",
    "        cur_line = lines[cur_i]\n",
    "        first_char = cur_line[0]\n",
    "        return first_char == \"$\"\n",
    "\n",
    "    def is_end_of_datapoint(line):\n",
    "        first_char = line[0]\n",
    "        return first_char == \"\\n\"\n",
    "\n",
    "    features_all_lines = []  # 파일 내 모든 문장의 토큰 피처들\n",
    "    with open(file, 'r', encoding=\"utf-8\") as fin:\n",
    "        lines = fin.readlines()\n",
    "\n",
    "        for i, line in enumerate(lines):\n",
    "            if is_original_line(i, lines):\n",
    "                features_a_line = []\n",
    "            elif is_ner_processed_line(i, lines):\n",
    "                continue\n",
    "            elif is_end_of_datapoint(line):\n",
    "                features_all_lines.append(features_a_line)\n",
    "            else:\n",
    "                features_a_line.append(line.split())\n",
    "    return features_all_lines"
   ],
   "metadata": {
    "collapsed": false
   }
  },
  {
   "cell_type": "code",
   "execution_count": 96,
   "outputs": [],
   "source": [
    "corpus = read_file(\"data/corpus/korean_ner/train.txt\")"
   ],
   "metadata": {
    "collapsed": false
   }
  },
  {
   "cell_type": "code",
   "execution_count": 97,
   "outputs": [
    {
     "data": {
      "text/plain": "[[['1', '한편', 'NNG', 'O'],\n  ['1', ',', 'SP', 'O'],\n  ['2', 'AFC', 'SL', 'O'],\n  ['2', '챔피언스', 'NNG', 'O'],\n  ['2', '리그', 'NNG', 'O'],\n  ['3', 'E', 'SL', 'B_OG'],\n  ['3', '조', 'NNG', 'I'],\n  ['3', '에', 'JKB', 'O'],\n  ['4', '속하', 'VV', 'O'],\n  ['4', 'ㄴ', 'ETM', 'O'],\n  ['5', '포항', 'NNP', 'O'],\n  ['6', '역시', 'MAJ', 'O'],\n  ['7', '대회', 'NNG', 'O'],\n  ['8', '8강', 'NNG', 'O'],\n  ['9', '진출', 'NNG', 'O'],\n  ['9', '이', 'JKS', 'O'],\n  ['10', '불투명', 'NNG', 'O'],\n  ['10', '하', 'VV', 'O'],\n  ['10', '다', 'EC', 'O'],\n  ['11', '.', 'SF', 'O']],\n [['1', '2003', 'SN', 'B_DT'],\n  ['1', '년', 'NNB', 'I'],\n  ['2', '6', 'SN', 'I'],\n  ['2', '월', 'NNB', 'I'],\n  ['3', '14', 'SN', 'I'],\n  ['3', '일', 'NNB', 'I'],\n  ['4', '사직', 'NNG', 'O'],\n  ['5', '두산', 'NNP', 'O'],\n  ['5', '전', 'NNG', 'O'],\n  ['6', '이후', 'NNG', 'O'],\n  ['7', '박명환', 'NNP', 'B_PS'],\n  ['7', '에게', 'JKB', 'O'],\n  ['8', '당하', 'VV', 'O'],\n  ['8', '았', 'EP', 'O'],\n  ['8', '던', 'ETM', 'O'],\n  ['9', '10', 'SN', 'O'],\n  ['9', '연패', 'NNG', 'O'],\n  ['10', '사슬', 'NNG', 'O'],\n  ['10', '을', 'JKO', 'O'],\n  ['11', '거의', 'MAG', 'O'],\n  ['12', '5', 'SN', 'B_DT'],\n  ['12', '년', 'NNB', 'I'],\n  ['13', '만', 'NNB', 'O'],\n  ['13', '에', 'JKB', 'O'],\n  ['14', '끊', 'VV', 'O'],\n  ['14', '는', 'ETM', 'O'],\n  ['15', '의미', 'NNG', 'O'],\n  ['15', '있', 'VV', 'O'],\n  ['15', '는', 'ETM', 'O'],\n  ['16', '승리', 'NNG', 'O'],\n  ['16', '이', 'VCP', 'O'],\n  ['16', '었', 'EP', 'O'],\n  ['16', '다', 'EC', 'O'],\n  ['17', '.', 'SF', 'O']],\n [['1', 'AP', 'SL', 'B_OG'],\n  ['1', '통신', 'NNG', 'I'],\n  ['1', '은', 'JX', 'O'],\n  ['2', '8', 'SN', 'B_DT'],\n  ['2', '일', 'NNB', 'I'],\n  ['2', '(', 'SS', 'O'],\n  ['2', '이하', 'NNG', 'O'],\n  ['3', '한국', 'NNP', 'B_LC'],\n  ['3', '시간', 'NNG', 'O'],\n  ['3', ')', 'SS', 'O'],\n  ['4', '올라주원', 'NNP', 'B_PS'],\n  ['4', ',', 'SP', 'O'],\n  ['5', '유잉', 'NNP', 'B_PS'],\n  ['5', '을', 'JKO', 'O'],\n  ['6', '비롯', 'XR', 'O'],\n  ['6', '하', 'XSV', 'O'],\n  ['6', '아', 'EC', 'O'],\n  ['7', '애드리언', 'NNP', 'B_PS'],\n  ['8', '댄틀리', 'NNP', 'I'],\n  ['8', ',', 'SP', 'O'],\n  ['9', '팻', 'NNP', 'B_PS'],\n  ['10', '라일리', 'NNP', 'I'],\n  ['11', '감독', 'NNG', 'O'],\n  ['11', ',', 'SP', 'O'],\n  ['12', '캐시', 'NNG', 'B_PS'],\n  ['13', '러시', 'NNG', 'I'],\n  ['14', '감독', 'NNG', 'O'],\n  ['14', ',', 'SP', 'O'],\n  ['15', 'TV', 'SL', 'O'],\n  ['16', '해설가', 'NNG', 'O'],\n  ['17', '딕', 'NNP', 'B_PS'],\n  ['18', '바이텔', 'NNP', 'I'],\n  ['18', ',', 'SP', 'O'],\n  ['19', '디트로이트', 'NNP', 'B_OG'],\n  ['20', '피스톤스', 'NNP', 'I'],\n  ['20', '의', 'JKG', 'O'],\n  ['21', '구단주', 'NNG', 'O'],\n  ['22', '윌리엄', 'NNP', 'B_PS'],\n  ['23', '데이비드슨', 'NNP', 'I'],\n  ['24', '등', 'NNB', 'O'],\n  ['24', '이', 'JKS', 'O'],\n  ['25', '2008', 'SN', 'B_DT'],\n  ['26', '명예', 'NNG', 'O'],\n  ['26', '의', 'JKG', 'O'],\n  ['27', '전당', 'NNG', 'O'],\n  ['28', '헌액', 'NNG', 'O'],\n  ['28', '자', 'NNG', 'O'],\n  ['28', '로', 'JKB', 'O'],\n  ['29', '결정', 'NNG', 'O'],\n  ['29', '되', 'XSV', 'O'],\n  ['29', '었', 'EP', 'O'],\n  ['29', '다고', 'EC', 'O'],\n  ['30', '보', 'VV', 'O'],\n  ['30', '아도', 'EC', 'O'],\n  ['30', '하', 'VX', 'O'],\n  ['30', '았', 'EP', 'O'],\n  ['30', '다', 'EC', 'O'],\n  ['31', '.', 'SF', 'O']],\n [['1', '(', 'SS', 'O'],\n  ['1', '개막', 'NNG', 'O'],\n  ['2', '6', 'SN', 'O'],\n  ['2', '연패', 'NNG', 'O'],\n  ['2', ')', 'SS', 'O'],\n  ['2', '\"', 'SS', 'O'],\n  ['2', '짐', 'NNP', 'B_PS'],\n  ['3', '릴랜드', 'NNP', 'I'],\n  ['4', '디트로이트', 'NNP', 'B_OG'],\n  ['5', '감독', 'NNG', 'O'],\n  ['5', '은', 'JX', 'O'],\n  ['6', '메이저리그', 'NNG', 'B_OG'],\n  ['6', '에서', 'JKB', 'O'],\n  ['7', '손꼽히', 'VV', 'O'],\n  ['7', '는', 'ETM', 'O'],\n  ['8', '명장', 'NNG', 'O'],\n  ['8', '이', 'VCP', 'O'],\n  ['8', '면서', 'EC', 'O'],\n  ['9', '덕장', 'NNG', 'O'],\n  ['9', '이', 'VCP', 'O'],\n  ['9', '다', 'EC', 'O'],\n  ['10', '.', 'SF', 'O']],\n [['1', '역시', 'MAJ', 'O'],\n  ['2', '새로', 'MAG', 'O'],\n  ['3', '데려오', 'VV', 'O'],\n  ['3', 'ㄴ', 'ETM', 'O'],\n  ['4', '돈트렐', 'NNP', 'B_PS'],\n  ['5', '윌리스', 'NNP', 'I'],\n  ['5', '는', 'JX', 'O'],\n  ['6', '6', 'SN', 'B_DT'],\n  ['6', '일', 'NNB', 'I'],\n  ['7', '경기', 'NNG', 'O'],\n  ['7', '에서', 'JKB', 'O'],\n  ['8', '삼진', 'NNG', 'O'],\n  ['8', '을', 'JKO', 'O'],\n  ['9', '하나', 'NR', 'O'],\n  ['9', '도', 'JX', 'O'],\n  ['10', '잡', 'VV', 'O'],\n  ['10', '지', 'EC', 'O'],\n  ['11', '않', 'VX', 'O'],\n  ['11', '고', 'EC', 'O'],\n  ['12', '볼넷', 'NNG', 'O'],\n  ['13', '7', 'SN', 'O'],\n  ['13', '개', 'NNB', 'O'],\n  ['13', '를', 'JKO', 'O'],\n  ['14', '내주', 'VV', 'O'],\n  ['14', '는', 'ETM', 'O'],\n  ['15', '엽기', 'NNG', 'O'],\n  ['16', '피칭', 'NNG', 'O'],\n  ['16', '을', 'JKO', 'O'],\n  ['17', '하', 'VV', 'O'],\n  ['17', '었', 'EP', 'O'],\n  ['17', '다', 'EC', 'O'],\n  ['18', '.', 'SF', 'O']]]"
     },
     "execution_count": 97,
     "metadata": {},
     "output_type": "execute_result"
    }
   ],
   "source": [
    "corpus[:5]"
   ],
   "metadata": {
    "collapsed": false
   }
  },
  {
   "cell_type": "code",
   "execution_count": 151,
   "outputs": [],
   "source": [
    "# 문장별로 토큰(입력)과 BIO 태그(정답)를 따로 수집한다.\n",
    "tokens_all_sentences, bios_all_sentences = [], []\n",
    "for tags_a_sentence in corpus:\n",
    "    tokens_a_sentence, bios_a_sentence = [], []\n",
    "\n",
    "    for features in tags_a_sentence:\n",
    "        token, bio = features[1], features[3]\n",
    "        tokens_a_sentence.append(token)\n",
    "        bios_a_sentence.append(bio)\n",
    "\n",
    "    tokens_all_sentences.append(tokens_a_sentence)\n",
    "    bios_all_sentences.append(bios_a_sentence)"
   ],
   "metadata": {
    "collapsed": false
   }
  },
  {
   "cell_type": "code",
   "execution_count": 155,
   "outputs": [
    {
     "name": "stdout",
     "output_type": "stream",
     "text": [
      "첫번째 문장의 토큰-BIO 태그 샘플들 10개:\n",
      "한편 O\n",
      ", O\n",
      "AFC O\n",
      "챔피언스 O\n",
      "리그 O\n",
      "E B_OG\n",
      "조 I\n",
      "에 O\n",
      "속하 O\n",
      "ㄴ O\n"
     ]
    }
   ],
   "source": [
    "sentence_id = 0\n",
    "\n",
    "tokens = tokens_all_sentences[sentence_id]\n",
    "bios = bios_all_sentences[sentence_id]\n",
    "n_samples = 10\n",
    "print(f\"첫번째 문장의 토큰-BIO 태그 샘플들 {n_samples}개:\")\n",
    "for t, b in zip(tokens[:n_samples], bios[:n_samples]):\n",
    "    print(t, b)"
   ],
   "metadata": {
    "collapsed": false
   }
  },
  {
   "cell_type": "code",
   "execution_count": 216,
   "outputs": [
    {
     "name": "stdout",
     "output_type": "stream",
     "text": [
      "num('O')/num('BIO') = 0.8567379285838244\n"
     ]
    }
   ],
   "source": [
    "# 결과를 보면 BIO 중 O가 대다수인 편향이 있음을 알 수 있다. 따라서 학습된 모델은 정확도보다\n",
    "# F-1 점수로 검증함이 더 공정하다.\n",
    "def rate_category(cat, data):\n",
    "    \"\"\"\n",
    "\n",
    "    :param cat: {BIO} 중 하나. 지금은 O에만 작동한다.\n",
    "    :param data: 원소는 cat에 속하는 글자 하나로만 이루어져 있어야 한다.\n",
    "    :return:\n",
    "    \"\"\"\n",
    "    tensor = tf.ragged.constant(data)\n",
    "    vector = tf.reshape(tensor, [-1])\n",
    "    len_vector = tf.size(vector)\n",
    "    count = tf.reduce_sum(tf.cast(tf.equal(cat, vector), tf.int32))\n",
    "    return count / len_vector\n",
    "\n",
    "\n",
    "count_O = rate_category('O', bios_all_sentences)\n",
    "\n",
    "# rate_O = count_O / count_all\n",
    "print(f\"num('O')/num('BIO') = {count_O:3}\")"
   ],
   "metadata": {
    "collapsed": false
   }
  },
  {
   "cell_type": "code",
   "execution_count": 231,
   "outputs": [],
   "source": [
    "# if given, it will be added to word_index and used to replace out-of-vocabulary\n",
    "# words during text_to_sequence calls\n",
    "token_tokenizer = keras.preprocessing.text.Tokenizer(oov_token=\"OOV\")\n",
    "token_tokenizer.fit_on_texts(tokens_all_sentences)\n",
    "\n",
    "bio_tokenizer = keras.preprocessing.text.Tokenizer(lower=False)  # 토큰은 그대로 둔다.\n",
    "bio_tokenizer.fit_on_texts(bios_all_sentences)"
   ],
   "metadata": {
    "collapsed": false
   }
  },
  {
   "cell_type": "code",
   "execution_count": 254,
   "outputs": [],
   "source": [
    "# 모델 추론 결과를 다시 읽을 수 있는 형태로 되돌리기 위해 매핑 저장.\n",
    "token_index_word = token_tokenizer.index_word\n",
    "tag_index_word = bio_tokenizer.index_word\n",
    "\n",
    "token_space_size = len(token_index_word) + 1\n",
    "bio_space_size = len(tag_index_word) + 1"
   ],
   "metadata": {
    "collapsed": false
   }
  },
  {
   "cell_type": "code",
   "execution_count": 250,
   "outputs": [],
   "source": [
    "dataset_x = token_tokenizer.texts_to_sequences(tokens_all_sentences)\n",
    "dataset_y = bio_tokenizer.texts_to_sequences(bios_all_sentences)"
   ],
   "metadata": {
    "collapsed": false
   }
  },
  {
   "cell_type": "code",
   "execution_count": 251,
   "outputs": [],
   "source": [
    "# maxlen = max(map(lambda token_sequence: len(token_sequence), train_x))\n",
    "padded_dataset_x = keras.preprocessing.sequence.pad_sequences(\n",
    "    dataset_x, padding=\"post\")  # maxlen 주어지지 않으면 자동으로 최장 시퀀스 길이를 따름.\n",
    "padded_dataset_y = keras.preprocessing.sequence.pad_sequences(\n",
    "    dataset_y, padding=\"post\")"
   ],
   "metadata": {
    "collapsed": false
   }
  },
  {
   "cell_type": "code",
   "execution_count": 252,
   "outputs": [],
   "source": [
    "train_x, test_x, train_y, test_y = train_test_split(\n",
    "    padded_dataset_x,\n",
    "    padded_dataset_y,\n",
    "    test_size=.2)"
   ],
   "metadata": {
    "collapsed": false
   }
  },
  {
   "cell_type": "code",
   "execution_count": 255,
   "outputs": [],
   "source": [
    "one_hot_train_y = tf.keras.utils.to_categorical(train_y, num_classes=bio_space_size)\n",
    "one_hot_test_y = tf.keras.utils.to_categorical(test_y, num_classes=token_space_size)"
   ],
   "metadata": {
    "collapsed": false
   }
  },
  {
   "cell_type": "code",
   "execution_count": 264,
   "outputs": [
    {
     "data": {
      "text/plain": "(2844, 168, 8)"
     },
     "execution_count": 264,
     "metadata": {},
     "output_type": "execute_result"
    }
   ],
   "source": [
    "one_hot_train_y.shape"
   ],
   "metadata": {
    "collapsed": false
   }
  },
  {
   "cell_type": "code",
   "execution_count": 257,
   "outputs": [
    {
     "name": "stdout",
     "output_type": "stream",
     "text": [
      "WARNING:tensorflow:Layer lstm_4 will not use cuDNN kernels since it doesn't meet the criteria. It will use a generic GPU kernel as fallback when running on GPU.\n",
      "WARNING:tensorflow:Layer lstm_4 will not use cuDNN kernels since it doesn't meet the criteria. It will use a generic GPU kernel as fallback when running on GPU.\n",
      "WARNING:tensorflow:Layer lstm_4 will not use cuDNN kernels since it doesn't meet the criteria. It will use a generic GPU kernel as fallback when running on GPU.\n"
     ]
    },
    {
     "ename": "ValueError",
     "evalue": "Input 0 of layer \"bidirectional_3\" is incompatible with the layer: expected ndim=3, found ndim=4. Full shape received: (None, 2844, 168, 30)",
     "output_type": "error",
     "traceback": [
      "\u001B[0;31m---------------------------------------------------------------------------\u001B[0m",
      "\u001B[0;31mValueError\u001B[0m                                Traceback (most recent call last)",
      "Cell \u001B[0;32mIn[257], line 7\u001B[0m\n\u001B[1;32m      1\u001B[0m input_layer \u001B[38;5;241m=\u001B[39m keras\u001B[38;5;241m.\u001B[39mlayers\u001B[38;5;241m.\u001B[39mInput(shape\u001B[38;5;241m=\u001B[39mtrain_x\u001B[38;5;241m.\u001B[39mshape)\n\u001B[1;32m      2\u001B[0m embedding_layer \u001B[38;5;241m=\u001B[39m keras\u001B[38;5;241m.\u001B[39mlayers\u001B[38;5;241m.\u001B[39mEmbedding(\n\u001B[1;32m      3\u001B[0m     input_dim\u001B[38;5;241m=\u001B[39mtoken_space_size,\n\u001B[1;32m      4\u001B[0m     output_dim\u001B[38;5;241m=\u001B[39m\u001B[38;5;241m30\u001B[39m,\n\u001B[1;32m      5\u001B[0m     \u001B[38;5;66;03m# input_length=\u001B[39;00m\n\u001B[1;32m      6\u001B[0m )(input_layer)\n\u001B[0;32m----> 7\u001B[0m bi_lstm_layer \u001B[38;5;241m=\u001B[39m \u001B[43mkeras\u001B[49m\u001B[38;5;241;43m.\u001B[39;49m\u001B[43mlayers\u001B[49m\u001B[38;5;241;43m.\u001B[39;49m\u001B[43mBidirectional\u001B[49m\u001B[43m(\u001B[49m\n\u001B[1;32m      8\u001B[0m \u001B[43m    \u001B[49m\u001B[43mtf\u001B[49m\u001B[38;5;241;43m.\u001B[39;49m\u001B[43mkeras\u001B[49m\u001B[38;5;241;43m.\u001B[39;49m\u001B[43mlayers\u001B[49m\u001B[38;5;241;43m.\u001B[39;49m\u001B[43mLSTM\u001B[49m\u001B[43m(\u001B[49m\u001B[38;5;241;43m200\u001B[39;49m\u001B[43m,\u001B[49m\n\u001B[1;32m      9\u001B[0m \u001B[43m                         \u001B[49m\u001B[43mreturn_sequences\u001B[49m\u001B[38;5;241;43m=\u001B[39;49m\u001B[38;5;28;43;01mTrue\u001B[39;49;00m\u001B[43m,\u001B[49m\n\u001B[1;32m     10\u001B[0m \u001B[43m                         \u001B[49m\u001B[43mdropout\u001B[49m\u001B[38;5;241;43m=\u001B[39;49m\u001B[38;5;241;43m.5\u001B[39;49m\u001B[43m,\u001B[49m\n\u001B[1;32m     11\u001B[0m \u001B[43m                         \u001B[49m\u001B[43mrecurrent_dropout\u001B[49m\u001B[38;5;241;43m=\u001B[39;49m\u001B[38;5;241;43m.25\u001B[39;49m\u001B[43m)\u001B[49m\u001B[43m)\u001B[49m\u001B[43m(\u001B[49m\u001B[43membedding_layer\u001B[49m\u001B[43m)\u001B[49m\n\u001B[1;32m     12\u001B[0m \u001B[38;5;66;03m# '어느 개체명이 가장 가능성 높은가?'를 마지막 밀집층으로 보여준다.\u001B[39;00m\n\u001B[1;32m     13\u001B[0m dense_layer \u001B[38;5;241m=\u001B[39m keras\u001B[38;5;241m.\u001B[39mlayers\u001B[38;5;241m.\u001B[39mTimeDistributed(\n\u001B[1;32m     14\u001B[0m     keras\u001B[38;5;241m.\u001B[39mlayers\u001B[38;5;241m.\u001B[39mDense(bio_space_size, activation\u001B[38;5;241m=\u001B[39m\u001B[38;5;124m\"\u001B[39m\u001B[38;5;124msoftmax\u001B[39m\u001B[38;5;124m\"\u001B[39m))(bi_lstm_layer)\n",
      "File \u001B[0;32m~/PycharmProjects/chatbot/venv/lib/python3.8/site-packages/keras/layers/rnn/bidirectional.py:278\u001B[0m, in \u001B[0;36mBidirectional.__call__\u001B[0;34m(self, inputs, initial_state, constants, **kwargs)\u001B[0m\n\u001B[1;32m    275\u001B[0m     inputs \u001B[38;5;241m=\u001B[39m inputs[\u001B[38;5;241m0\u001B[39m]\n\u001B[1;32m    277\u001B[0m \u001B[38;5;28;01mif\u001B[39;00m initial_state \u001B[38;5;129;01mis\u001B[39;00m \u001B[38;5;28;01mNone\u001B[39;00m \u001B[38;5;129;01mand\u001B[39;00m constants \u001B[38;5;129;01mis\u001B[39;00m \u001B[38;5;28;01mNone\u001B[39;00m:\n\u001B[0;32m--> 278\u001B[0m     \u001B[38;5;28;01mreturn\u001B[39;00m \u001B[38;5;28;43msuper\u001B[39;49m\u001B[43m(\u001B[49m\u001B[43m)\u001B[49m\u001B[38;5;241;43m.\u001B[39;49m\u001B[38;5;21;43m__call__\u001B[39;49m\u001B[43m(\u001B[49m\u001B[43minputs\u001B[49m\u001B[43m,\u001B[49m\u001B[43m \u001B[49m\u001B[38;5;241;43m*\u001B[39;49m\u001B[38;5;241;43m*\u001B[39;49m\u001B[43mkwargs\u001B[49m\u001B[43m)\u001B[49m\n\u001B[1;32m    280\u001B[0m \u001B[38;5;66;03m# Applies the same workaround as in `RNN.__call__`\u001B[39;00m\n\u001B[1;32m    281\u001B[0m additional_inputs \u001B[38;5;241m=\u001B[39m []\n",
      "File \u001B[0;32m~/PycharmProjects/chatbot/venv/lib/python3.8/site-packages/keras/utils/traceback_utils.py:70\u001B[0m, in \u001B[0;36mfilter_traceback.<locals>.error_handler\u001B[0;34m(*args, **kwargs)\u001B[0m\n\u001B[1;32m     67\u001B[0m     filtered_tb \u001B[38;5;241m=\u001B[39m _process_traceback_frames(e\u001B[38;5;241m.\u001B[39m__traceback__)\n\u001B[1;32m     68\u001B[0m     \u001B[38;5;66;03m# To get the full stack trace, call:\u001B[39;00m\n\u001B[1;32m     69\u001B[0m     \u001B[38;5;66;03m# `tf.debugging.disable_traceback_filtering()`\u001B[39;00m\n\u001B[0;32m---> 70\u001B[0m     \u001B[38;5;28;01mraise\u001B[39;00m e\u001B[38;5;241m.\u001B[39mwith_traceback(filtered_tb) \u001B[38;5;28;01mfrom\u001B[39;00m \u001B[38;5;28mNone\u001B[39m\n\u001B[1;32m     71\u001B[0m \u001B[38;5;28;01mfinally\u001B[39;00m:\n\u001B[1;32m     72\u001B[0m     \u001B[38;5;28;01mdel\u001B[39;00m filtered_tb\n",
      "File \u001B[0;32m~/PycharmProjects/chatbot/venv/lib/python3.8/site-packages/keras/engine/input_spec.py:232\u001B[0m, in \u001B[0;36massert_input_compatibility\u001B[0;34m(input_spec, inputs, layer_name)\u001B[0m\n\u001B[1;32m    230\u001B[0m     ndim \u001B[38;5;241m=\u001B[39m shape\u001B[38;5;241m.\u001B[39mrank\n\u001B[1;32m    231\u001B[0m     \u001B[38;5;28;01mif\u001B[39;00m ndim \u001B[38;5;241m!=\u001B[39m spec\u001B[38;5;241m.\u001B[39mndim:\n\u001B[0;32m--> 232\u001B[0m         \u001B[38;5;28;01mraise\u001B[39;00m \u001B[38;5;167;01mValueError\u001B[39;00m(\n\u001B[1;32m    233\u001B[0m             \u001B[38;5;124mf\u001B[39m\u001B[38;5;124m'\u001B[39m\u001B[38;5;124mInput \u001B[39m\u001B[38;5;132;01m{\u001B[39;00minput_index\u001B[38;5;132;01m}\u001B[39;00m\u001B[38;5;124m of layer \u001B[39m\u001B[38;5;124m\"\u001B[39m\u001B[38;5;132;01m{\u001B[39;00mlayer_name\u001B[38;5;132;01m}\u001B[39;00m\u001B[38;5;124m\"\u001B[39m\u001B[38;5;124m \u001B[39m\u001B[38;5;124m'\u001B[39m\n\u001B[1;32m    234\u001B[0m             \u001B[38;5;124m\"\u001B[39m\u001B[38;5;124mis incompatible with the layer: \u001B[39m\u001B[38;5;124m\"\u001B[39m\n\u001B[1;32m    235\u001B[0m             \u001B[38;5;124mf\u001B[39m\u001B[38;5;124m\"\u001B[39m\u001B[38;5;124mexpected ndim=\u001B[39m\u001B[38;5;132;01m{\u001B[39;00mspec\u001B[38;5;241m.\u001B[39mndim\u001B[38;5;132;01m}\u001B[39;00m\u001B[38;5;124m, found ndim=\u001B[39m\u001B[38;5;132;01m{\u001B[39;00mndim\u001B[38;5;132;01m}\u001B[39;00m\u001B[38;5;124m. \u001B[39m\u001B[38;5;124m\"\u001B[39m\n\u001B[1;32m    236\u001B[0m             \u001B[38;5;124mf\u001B[39m\u001B[38;5;124m\"\u001B[39m\u001B[38;5;124mFull shape received: \u001B[39m\u001B[38;5;132;01m{\u001B[39;00m\u001B[38;5;28mtuple\u001B[39m(shape)\u001B[38;5;132;01m}\u001B[39;00m\u001B[38;5;124m\"\u001B[39m\n\u001B[1;32m    237\u001B[0m         )\n\u001B[1;32m    238\u001B[0m \u001B[38;5;28;01mif\u001B[39;00m spec\u001B[38;5;241m.\u001B[39mmax_ndim \u001B[38;5;129;01mis\u001B[39;00m \u001B[38;5;129;01mnot\u001B[39;00m \u001B[38;5;28;01mNone\u001B[39;00m:\n\u001B[1;32m    239\u001B[0m     ndim \u001B[38;5;241m=\u001B[39m x\u001B[38;5;241m.\u001B[39mshape\u001B[38;5;241m.\u001B[39mrank\n",
      "\u001B[0;31mValueError\u001B[0m: Input 0 of layer \"bidirectional_3\" is incompatible with the layer: expected ndim=3, found ndim=4. Full shape received: (None, 2844, 168, 30)"
     ]
    }
   ],
   "source": [
    "input_layer = keras.layers.Input(shape=)\n",
    "embedding_layer = keras.layers.Embedding(\n",
    "    input_dim=token_space_size,\n",
    "    output_dim=30,\n",
    "    # input_length=\n",
    ")(input_layer)\n",
    "bi_lstm_layer = keras.layers.Bidirectional(\n",
    "    tf.keras.layers.LSTM(200,\n",
    "                         return_sequences=True,\n",
    "                         dropout=.5,\n",
    "                         recurrent_dropout=.25))(embedding_layer)\n",
    "# '어느 개체명이 가장 가능성 높은가?'를 마지막 밀집층으로 보여준다.\n",
    "dense_layer = keras.layers.TimeDistributed(\n",
    "    keras.layers.Dense(bio_space_size, activation=\"softmax\"))(bi_lstm_layer)\n",
    "bi_lstm_model = keras.Model(inputs=input_layer, outputs=dense_layer)\n",
    "bi_lstm_model.compile(loss=\"categorical_crossentropy\",\n",
    "                      optimizer=keras.optimizers.legacy.Adam(),\n",
    "                      metrics=[\"accuracy\"])"
   ],
   "metadata": {
    "collapsed": false
   }
  },
  {
   "cell_type": "code",
   "execution_count": null,
   "outputs": [],
   "source": [
    "bi_lstm_model.fit(train_x,\n",
    "                  one_hot_train_y,\n",
    "                  batch_size=128,\n",
    "                  epochs=1000,\n",
    "                  callbacks=[early_stopping])"
   ],
   "metadata": {
    "collapsed": false
   }
  }
 ],
 "metadata": {
  "kernelspec": {
   "display_name": "Python 3",
   "language": "python",
   "name": "python3"
  },
  "language_info": {
   "codemirror_mode": {
    "name": "ipython",
    "version": 2
   },
   "file_extension": ".py",
   "mimetype": "text/x-python",
   "name": "python",
   "nbconvert_exporter": "python",
   "pygments_lexer": "ipython2",
   "version": "2.7.6"
  }
 },
 "nbformat": 4,
 "nbformat_minor": 0
}
