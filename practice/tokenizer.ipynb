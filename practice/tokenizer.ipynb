{
 "cells": [
  {
   "cell_type": "markdown",
   "source": [
    "# 자연어처리(NLP: Natural Language Process)\n",
    "1. 용어\n",
    "  - 자연어(NL: Natural Language): 사람이 일상 생활에서 사용하는 언어.\n",
    "  - 자연어 처리: 이러한 자연어를 컴퓨터가 다룰 수 있도록 처리하는 작업.\n",
    "  - 형태소(morpheme): 언어의 의미를 지닌 가장 작은 단위.\n",
    "  - 토큰(token): NLP 다룰 수 있도록 문장을 쪼개는 단위. 이번 프로젝트에서는 형태소를 토큰으로 삼음.\n",
    "  - 토크나이징(tokenizing): 문장을 토큰 단위로 쪼개는 작업.\n",
    "  - 형태소 분석기: 문장을 형태소 단위로 쪼개는 도구.\n",
    "  - [품사][1](POS: Part Of Speech): 문장 내 역할, 형식, 기능 등으로 단어에게 분류.\n",
    "  - 품사 태깅(POS tagging): 문장에서 쪼갠 형태소에 품사를 매기는 일.\n",
    "  - KoNLPy: 이번 프로젝트에서 형태소 분석에 사용할 패키지.\n",
    "\n",
    "\n",
    "[1]: https://namu.wiki/w/%ED%92%88%EC%82%AC"
   ],
   "metadata": {
    "collapsed": false
   }
  },
  {
   "cell_type": "code",
   "execution_count": 35,
   "outputs": [],
   "source": [
    "sentence = \"아버지가 방에 들어가신다.\"\n",
    "paragraph = \"브룩스 여기 있었다. 레드도 여기 있었다.\"\n",
    "sentence_with_unknowns = \"나 어제 '더 글로리' 정주행했어!\""
   ],
   "metadata": {
    "collapsed": false
   }
  },
  {
   "cell_type": "code",
   "execution_count": 31,
   "outputs": [],
   "source": [
    "def analyze(engine, sentence: str, paragraph: str, normalized=False):\n",
    "    if hasattr(engine, \"normalize\") and not normalized:\n",
    "        norm_sentence = engine.normalize(sentence)\n",
    "        norm_paragraph = engine.normalize(paragraph)\n",
    "        print(f\"정규화된 문장: {norm_sentence}\")\n",
    "        print(f\"정규화된 문단: {norm_paragraph}\\n\")\n",
    "        analyze(engine, norm_sentence, norm_paragraph, normalized=True)\n",
    "        return\n",
    "\n",
    "    if not normalized:\n",
    "        print(f\"예제 문장: {sentence}\")\n",
    "        print(f\"예제 문단: {paragraph}\\n\")\n",
    "\n",
    "    morphs = engine.morphs(sentence)\n",
    "    print(f\"형태소 추출: {morphs}\")\n",
    "\n",
    "    pos = engine.pos(sentence)\n",
    "    print(f\"품사 태깅: {pos}\")\n",
    "\n",
    "    nouns = engine.nouns(sentence)\n",
    "    print(f\"명사 추출: {nouns}\")\n",
    "\n",
    "    if hasattr(engine, \"sentences\"):\n",
    "        sentences = engine.sentences(paragraph)\n",
    "        print(f\"문장 추출: {sentences}\")\n",
    "\n",
    "    if hasattr(engine, \"phrases\"):\n",
    "        phrases = engine.phrases(sentence)\n",
    "        print(f\"어구 추출: {phrases}\")"
   ],
   "metadata": {
    "collapsed": false
   }
  },
  {
   "cell_type": "markdown",
   "source": [
    "## Kkma"
   ],
   "metadata": {
    "collapsed": false
   }
  },
  {
   "cell_type": "code",
   "execution_count": 1,
   "outputs": [],
   "source": [
    "from konlpy.tag._kkma import Kkma"
   ],
   "metadata": {
    "collapsed": false
   }
  },
  {
   "cell_type": "code",
   "execution_count": 4,
   "outputs": [],
   "source": [
    "kkma = Kkma()  # 꼬꼬마 형태소 분석기"
   ],
   "metadata": {
    "collapsed": false
   }
  },
  {
   "cell_type": "code",
   "execution_count": 16,
   "outputs": [
    {
     "name": "stdout",
     "output_type": "stream",
     "text": [
      "예제 문장: 아버지가 방에 들어가신다.\n",
      "예제 문단: 브룩스 여기 있었다. 레드도 여기 있었다.\n",
      "\n",
      "형태소 추출: ['아버지', '가', '방', '에', '들어가', '시', 'ㄴ다', '.']\n",
      "품사 태깅: [('아버지', 'NNG'), ('가', 'JKS'), ('방', 'NNG'), ('에', 'JKM'), ('들어가', 'VV'), ('시', 'EPH'), ('ㄴ다', 'EFN'), ('.', 'SF')]\n",
      "명사 추출: ['아버지', '방']\n",
      "문장 추출: ['브룩스 여기 있었다.', '레드도 여기 있었다.']\n"
     ]
    }
   ],
   "source": [
    "analyze(kkma, sentence, paragraph)"
   ],
   "metadata": {
    "collapsed": false
   }
  },
  {
   "cell_type": "markdown",
   "source": [
    "## Komoran"
   ],
   "metadata": {
    "collapsed": false
   }
  },
  {
   "cell_type": "code",
   "execution_count": 17,
   "outputs": [],
   "source": [
    "from konlpy.tag._komoran import Komoran"
   ],
   "metadata": {
    "collapsed": false
   }
  },
  {
   "cell_type": "code",
   "execution_count": 18,
   "outputs": [],
   "source": [
    "komoran = Komoran()"
   ],
   "metadata": {
    "collapsed": false
   }
  },
  {
   "cell_type": "code",
   "execution_count": 23,
   "outputs": [
    {
     "name": "stdout",
     "output_type": "stream",
     "text": [
      "예제 문장: 아버지가 방에 들어가신다.\n",
      "예제 문단: 브룩스 여기 있었다. 레드도 여기 있었다.\n",
      "\n",
      "형태소 추출: ['아버지', '가', '방', '에', '들어가', '시', 'ㄴ다', '.']\n",
      "품사 태깅: [('아버지', 'NNG'), ('가', 'JKS'), ('방', 'NNG'), ('에', 'JKB'), ('들어가', 'VV'), ('시', 'EP'), ('ㄴ다', 'EF'), ('.', 'SF')]\n",
      "명사 추출: ['아버지', '방']\n"
     ]
    }
   ],
   "source": [
    "analyze(komoran, sentence, paragraph)"
   ],
   "metadata": {
    "collapsed": false
   }
  },
  {
   "cell_type": "markdown",
   "source": [
    "## Okt"
   ],
   "metadata": {
    "collapsed": false
   }
  },
  {
   "cell_type": "code",
   "execution_count": 24,
   "outputs": [],
   "source": [
    "from konlpy.tag._okt import Okt"
   ],
   "metadata": {
    "collapsed": false
   }
  },
  {
   "cell_type": "code",
   "execution_count": 25,
   "outputs": [],
   "source": [
    "okt = Okt()"
   ],
   "metadata": {
    "collapsed": false
   }
  },
  {
   "cell_type": "code",
   "execution_count": 32,
   "outputs": [
    {
     "name": "stdout",
     "output_type": "stream",
     "text": [
      "정규화된 문장: 아버지가 방에 들어가신다.\n",
      "정규화된 문단: 브룩스 여기 있었다. 레드도 여기 있었다.\n",
      "\n",
      "형태소 추출: ['아버지', '가', '방', '에', '들어가신다', '.']\n",
      "품사 태깅: [('아버지', 'Noun'), ('가', 'Josa'), ('방', 'Noun'), ('에', 'Josa'), ('들어가신다', 'Verb'), ('.', 'Punctuation')]\n",
      "명사 추출: ['아버지', '방']\n",
      "어구 추출: ['아버지']\n"
     ]
    }
   ],
   "source": [
    "analyze(okt, sentence, paragraph)"
   ],
   "metadata": {
    "collapsed": false
   }
  },
  {
   "cell_type": "markdown",
   "source": [
    "## 사용자 사전 등록\n",
    "형태소 분석기 훈련 시 없던 신조어 등을 등록할 수 있다. 분석 시에 등록된 단어들은 사용자 사전 기준에 따라\n",
    "우선 처리된다. KoNLPy가 인식할 수 있는 품사 목록은 [여기][1]서.\n",
    "\n",
    "[1]: https://docs.google.com/spreadsheets/d/1OGAjUvalBuX-oZvZ_-9tEfYD2gQe7hTGsgUpiiBSXI8/edit#gid=0"
   ],
   "metadata": {
    "collapsed": false
   }
  },
  {
   "cell_type": "code",
   "execution_count": 45,
   "outputs": [],
   "source": [
    "komoran_with_dict = Komoran(userdic=\"user_dict.tsv\")"
   ],
   "metadata": {
    "collapsed": false
   }
  },
  {
   "cell_type": "code",
   "execution_count": 46,
   "outputs": [
    {
     "name": "stdout",
     "output_type": "stream",
     "text": [
      "사용자 사전 없는 형태소 분석: [('나', 'NP'), ('어제', 'MAG'), (\"'\", 'SS'), ('더', 'MAG'), ('글로리', 'NNP'), (\"'\", 'SS'), ('정주', 'NNP'), ('행하', 'VV'), ('았', 'EP'), ('어', 'EF'), ('!', 'SF')]\n",
      "사용자 사전을 등록한 형태소 분석: [('나', 'NP'), ('어제', 'MAG'), (\"'\", 'SS'), ('더 글로리', 'NNP'), (\"'\", 'SS'), ('정주행', 'NNG'), ('하', 'XSV'), ('았', 'EP'), ('어', 'EF'), ('!', 'SF')]\n"
     ]
    }
   ],
   "source": [
    "pos_with_dict = komoran_with_dict.pos(sentence_with_unknowns)\n",
    "pos_without_dict = komoran.pos(sentence_with_unknowns)\n",
    "\n",
    "print(f\"사용자 사전 없는 형태소 분석: {pos_without_dict}\")\n",
    "print(f\"사용자 사전을 등록한 형태소 분석: {pos_with_dict}\")"
   ],
   "metadata": {
    "collapsed": false
   }
  },
  {
   "cell_type": "code",
   "execution_count": null,
   "outputs": [],
   "source": [],
   "metadata": {
    "collapsed": false
   }
  }
 ],
 "metadata": {
  "kernelspec": {
   "display_name": "Python 3",
   "language": "python",
   "name": "python3"
  },
  "language_info": {
   "codemirror_mode": {
    "name": "ipython",
    "version": 2
   },
   "file_extension": ".py",
   "mimetype": "text/x-python",
   "name": "python",
   "nbconvert_exporter": "python",
   "pygments_lexer": "ipython2",
   "version": "2.7.6"
  }
 },
 "nbformat": 4,
 "nbformat_minor": 0
}
